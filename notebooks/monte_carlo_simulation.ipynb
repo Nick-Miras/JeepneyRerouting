{
 "cells": [
  {
   "cell_type": "code",
   "id": "cb592956-ec2e-4c63-8bd3-c0ade3dc6b12",
   "metadata": {
    "ExecuteTime": {
     "start_time": "2024-11-01T01:37:00.356045Z"
    }
   },
   "source": [
    "!pip install -q osmnx"
   ],
   "outputs": [],
   "execution_count": null
  },
  {
   "cell_type": "code",
   "id": "fe1d965f-63fc-48a5-9aaf-581cb5df841b",
   "metadata": {
    "ExecuteTime": {
     "end_time": "2024-11-01T01:40:59.820470Z",
     "start_time": "2024-11-01T01:40:39.644336Z"
    }
   },
   "source": [
    "import graph_search_algorithm_compilation\n",
    "import matplotlib.pyplot as plt\n",
    "import networkx as nx\n",
    "#import nx_cugraph as nxcg\n",
    "import random\n",
    "import time\n",
    "import osmnx as ox\n",
    "\n",
    "# from joblib import Parallel, delayed\n",
    "from tqdm import tqdm\n",
    "from dask.distributed import Client\n",
    "from dask import delayed, compute"
   ],
   "outputs": [],
   "execution_count": 1
  },
  {
   "cell_type": "code",
   "id": "47369ba9-1af3-47b2-9274-9aa2a337cf0d",
   "metadata": {
    "ExecuteTime": {
     "end_time": "2024-11-01T01:41:21.484911Z",
     "start_time": "2024-11-01T01:41:17.002609Z"
    }
   },
   "source": [
    "if 'client' in globals():\n",
    "    client.close()\n",
    "client = Client(memory_limit='auto')"
   ],
   "outputs": [],
   "execution_count": 2
  },
  {
   "cell_type": "code",
   "id": "cc167984-2421-49ca-88e7-c8ec8818e4aa",
   "metadata": {
    "ExecuteTime": {
     "end_time": "2024-11-01T01:41:21.507769Z",
     "start_time": "2024-11-01T01:41:21.492046Z"
    }
   },
   "source": [
    "# Generate a random weighted graph for the simulation\n",
    "def generate_random_graph(num_nodes, prob=0.1, max_weight=10):\n",
    "    G = nx.gnp_random_graph(num_nodes, prob, directed=True)\n",
    "    for (u, v) in G.edges():\n",
    "        G.edges[u, v]['weight'] = random.randint(1, max_weight)\n",
    "    return G"
   ],
   "outputs": [],
   "execution_count": 3
  },
  {
   "cell_type": "code",
   "id": "67518673-cc40-45bd-8dcd-fb273e142e52",
   "metadata": {
    "ExecuteTime": {
     "end_time": "2024-11-01T01:41:21.537046Z",
     "start_time": "2024-11-01T01:41:21.525210Z"
    }
   },
   "source": [
    "# Apply flood conditions to the graph\n",
    "def apply_flood_conditions(G, flood_probability):\n",
    "    flooded_edges = []\n",
    "    for u, v in list(G.edges()):\n",
    "        if random.random() < flood_probability:\n",
    "            flooded_edges.append((u, v))\n",
    "            G.remove_edge(u, v)  # Remove the flooded edges from the graph\n",
    "    return G"
   ],
   "outputs": [],
   "execution_count": 4
  },
  {
   "cell_type": "code",
   "id": "dcc6338a-077c-4da3-8e03-657780d1c903",
   "metadata": {
    "ExecuteTime": {
     "end_time": "2024-11-01T01:41:21.569839Z",
     "start_time": "2024-11-01T01:41:21.560826Z"
    }
   },
   "source": [
    "algorithms = {\n",
    "    \"Dijkstra\": graph_search_algorithm_compilation.dijkstra_search,\n",
    "    \"Floyd-Warshall\": graph_search_algorithm_compilation.floyd_warshall_search,\n",
    "    \"Bellman-Ford\": graph_search_algorithm_compilation.bellman_ford_search,\n",
    "    \"Bidirectional\": graph_search_algorithm_compilation.bidirectional_search,\n",
    "    \"Dynamic\": graph_search_algorithm_compilation.dynamic_shortest_path,\n",
    "    # \"D* Lite\": graph_search_algorithm_compilation.d_star_lite,\n",
    "    \"A* Search\": graph_search_algorithm_compilation.a_star_search,\n",
    "    # \"MCTS\": graph_search_algorithm_compilation.monte_carlo_tree_search,\n",
    "    \"Yen's K-Shortest Paths\": graph_search_algorithm_compilation.yen_k_shortest_paths,\n",
    "    # \"ACO\": graph_search_algorithm_compilation.ant_colony_optimization,\n",
    "}"
   ],
   "outputs": [],
   "execution_count": 5
  },
  {
   "cell_type": "code",
   "id": "9272fd3c-c44d-451e-a609-832713aa7681",
   "metadata": {
    "ExecuteTime": {
     "end_time": "2024-11-01T01:41:21.603974Z",
     "start_time": "2024-11-01T01:41:21.591887Z"
    }
   },
   "source": [
    "def create_subgraph(G):\n",
    "    largest_wcc = max(nx.weakly_connected_components(G), key=len)\n",
    "    SG = G.__class__()\n",
    "    SG.add_nodes_from((n, G.nodes[n]) for n in largest_wcc)\n",
    "    if SG.is_multigraph():\n",
    "        SG.add_edges_from(\n",
    "            (n, nbr, key, d)\n",
    "            for n, nbrs in G.adj.items()\n",
    "            if n in largest_wcc\n",
    "            for nbr, keydict in nbrs.items()\n",
    "            if nbr in largest_wcc\n",
    "            for key, d in keydict.items()\n",
    "        )\n",
    "    else:\n",
    "        SG.add_edges_from(\n",
    "            (n, nbr, d)\n",
    "            for n, nbrs in G.adj.items()\n",
    "            if n in largest_wcc\n",
    "            for nbr, d in nbrs.items()\n",
    "            if nbr in largest_wcc\n",
    "        )\n",
    "    SG.graph.update(G.graph)\n",
    "    return SG"
   ],
   "outputs": [],
   "execution_count": 6
  },
  {
   "cell_type": "code",
   "id": "378a27f0-aad8-4662-9e43-d012701c988c",
   "metadata": {
    "ExecuteTime": {
     "end_time": "2024-11-01T01:50:39.141358Z",
     "start_time": "2024-11-01T01:50:39.117406Z"
    }
   },
   "source": [
    "def create_coarse_graph(G, communities):  # TODO: Increase Efficiency\n",
    "    supernode_graph = nx.Graph()\n",
    "\n",
    "    # Add nodes representing communities\n",
    "    for i, community in enumerate(communities):\n",
    "        supernode_graph.add_node(i)\n",
    "\n",
    "    # Add edges between communities based on connections in the original graph\n",
    "    for i, community1 in enumerate(communities):\n",
    "        for j, community2 in enumerate(communities):\n",
    "            if i != j:\n",
    "                # Find edges between these two communities\n",
    "                inter_community_edges = [(u, v) for u in community1 for v in community2 if G.has_edge(u, v)]\n",
    "                \n",
    "                if inter_community_edges:\n",
    "                    # Set the weight of the superedge (use minimum weight of inter-community edges)\n",
    "                    min_weight = min(G[u][v]['weight'] for u, v in inter_community_edges)\n",
    "                    supernode_graph.add_edge(i, j, weight=min_weight)\n",
    "\n",
    "    return supernode_graph\n",
    "\n",
    "\n",
    "def build_node_community_map(communities):\n",
    "    # Create a dictionary to map each node to its community index\n",
    "    node_community_map = {}\n",
    "    for i, community in enumerate(communities):\n",
    "        for node in community:\n",
    "            node_community_map[node] = i\n",
    "    return node_community_map\n",
    "\n",
    "def find_community(node, node_community_map):\n",
    "    # Use the dictionary for O(1) lookup of the community index\n",
    "    return node_community_map.get(node, None)\n",
    "\n",
    "\n",
    "def hierarchical_shortest_path(G, supernode_graph, communities, source, target, algorithm):\n",
    "    # Step 1: Find the community for the source and target nodes\n",
    "    node_community_map = build_node_community_map(communities)\n",
    "    source_community = find_community(source, node_community_map)\n",
    "    target_community = find_community(target, node_community_map)\n",
    "    \n",
    "    # Step 2: Find shortest path between these communities in the supernode graph\n",
    "    superpath = nx.shortest_path(supernode_graph, source=source_community, target=target_community)\n",
    "\n",
    "    # Step 3: Refine the path within the communities\n",
    "    full_path = [source]  # Start with the source node\n",
    "    current_node = source\n",
    "\n",
    "    for i in range(len(superpath) - 1):\n",
    "        community1 = superpath[i]\n",
    "        community2 = superpath[i + 1]\n",
    "\n",
    "        # Find the nodes in the original graph connecting these two communities\n",
    "        boundary_nodes = [(u, v) for u in communities[community1] for v in communities[community2] if G.has_edge(u, v)]\n",
    "        if not boundary_nodes:\n",
    "            raise Exception(\"No path between these communities in the original graph\")\n",
    "\n",
    "        # Select one of the boundary nodes to connect the communities (you can use min weight or some heuristic)\n",
    "        boundary_node = min(boundary_nodes, key=lambda x: G[x[0]][x[1]]['weight'])\n",
    "        \n",
    "        # Find the shortest path from current_node to boundary_node[0] in the original graph\n",
    "        path_within_community = algorithm(G, source=current_node, target=boundary_node[0])\n",
    "        full_path.extend(path_within_community[1:])  # Extend the path\n",
    "\n",
    "        # Set the next node to the node at the boundary\n",
    "        current_node = boundary_node[1]\n",
    "\n",
    "    # Find shortest path from the last boundary node to the target node\n",
    "    final_path = algorithm(G, source=current_node, target=target)\n",
    "    full_path.extend(final_path[1:])\n",
    "\n",
    "    return full_path"
   ],
   "outputs": [],
   "execution_count": 13
  },
  {
   "cell_type": "code",
   "id": "81d34155-80c5-42f0-aa6e-3df4f50ab68e",
   "metadata": {
    "ExecuteTime": {
     "end_time": "2024-11-01T01:50:40.436550Z",
     "start_time": "2024-11-01T01:50:40.416903Z"
    }
   },
   "source": [
    "# Parallel execution using Dask\n",
    "@delayed\n",
    "def evaluate_algorithm(G, supernode_graph, communities, source, target, algorithm):\n",
    "    start_time = time.time()\n",
    "    try:\n",
    "        # Call the algorithm with (G, source, target, weight)\n",
    "        path = hierarchical_shortest_path(G, supernode_graph, communities, source, target, algorithm)\n",
    "        duration = time.time() - start_time\n",
    "        if path is None:\n",
    "            return float('inf'), []  # Infinite cost for no path found\n",
    "        return duration, path  # Return computation time and the path\n",
    "    except Exception as e:\n",
    "        return float('inf'), []  # Infinite cost for errors\n",
    "\n",
    "\n",
    "# Run algorithms in parallel using Dask\n",
    "def run_in_parallel(algorithms, graph, source, target):\n",
    "    communities, supernode_graph = detect_communities_and_supernode_graph(graph)\n",
    "\n",
    "    delayed_results = [\n",
    "        evaluate_algorithm(graph, supernode_graph, communities, source, target, algo_func) \n",
    "        for algo_func in algorithms.values()\n",
    "    ]\n",
    "\n",
    "    results = compute(*delayed_results)\n",
    "    return results\n",
    "\n",
    "\n",
    "# Step 1: Detect Louvain communities and create the supernode graph\n",
    "def detect_communities_and_supernode_graph(G):\n",
    "    communities = nx.community.louvain_communities(G)\n",
    "    supernode_graph = create_coarse_graph(G, communities)\n",
    "    return communities, supernode_graph\n",
    "    \n",
    "\n",
    "# Monte Carlo Simulation: Run all algorithms in parallel on the same graph\n",
    "def monte_carlo_simulation(graph, num_iterations):\n",
    "    algorithm_performance = {name: [] for name in algorithms.keys()}  # Track performance for each algorithm\n",
    "\n",
    "    source = random.choice(list(graph.nodes()))\n",
    "    target = random.choice(list(graph.nodes()))\n",
    "\n",
    "    # Ensure source and target are not the same\n",
    "    while source == target:\n",
    "        target = random.choice(list(graph.nodes()))\n",
    "\n",
    "    # Step 4: Evaluate all algorithms in parallel over the same graph, flooded conditions, and source/target\n",
    "    for _ in tqdm(range(num_iterations)):\n",
    "        results = run_in_parallel(algorithms, graph.copy(), source, target)\n",
    "\n",
    "        # Store results in performance dictionary\n",
    "        for algo_name, result in zip(algorithms.keys(), results):\n",
    "            algorithm_performance[algo_name].append(result)\n",
    "\n",
    "    return algorithm_performance"
   ],
   "outputs": [],
   "execution_count": 14
  },
  {
   "cell_type": "code",
   "id": "30ebb045-5451-4fe4-85e5-5f702758f71f",
   "metadata": {
    "ExecuteTime": {
     "end_time": "2024-11-01T01:50:40.531230Z",
     "start_time": "2024-11-01T01:50:40.523676Z"
    }
   },
   "source": [
    "# Choose the best algorithm based on the performance and return the best result\n",
    "def choose_best_algorithm(algorithm_performance):\n",
    "    # Calculate average performance for each algorithm\n",
    "    avg_performance = {\n",
    "        algo: sum(duration for duration, _ in times) / len(times)\n",
    "        for algo, times in algorithm_performance.items()\n",
    "    }\n",
    "\n",
    "    # Select the algorithm with the lowest average time\n",
    "    best_algorithm = min(avg_performance, key=avg_performance.get)\n",
    "\n",
    "    # Output the performance of all algorithms\n",
    "    print(f\"Best algorithm: {best_algorithm}\")\n",
    "    for algo, avg_time in avg_performance.items():\n",
    "        print(f\"{algo}: {avg_time:.4f} seconds (average)\")\n",
    "\n",
    "    # Return the best algorithm and its last run output (path)\n",
    "    best_run = algorithm_performance[best_algorithm][-1]  # Get the last run result\n",
    "    return best_algorithm, best_run[1]  # Return the algorithm name and its path"
   ],
   "outputs": [],
   "execution_count": 15
  },
  {
   "cell_type": "code",
   "id": "d014f0ca-c78f-4ed2-9fa0-aebf21c7e3d5",
   "metadata": {
    "ExecuteTime": {
     "end_time": "2024-11-01T01:50:41.663165Z",
     "start_time": "2024-11-01T01:50:41.653736Z"
    }
   },
   "source": [
    "# Monte Carlo Simulation Parameters\n",
    "iterations = 1000  # Number of Monte Carlo iterations\n",
    "graph_size = 50    # Number of nodes in the graph\n",
    "flooded_road_probability = 0.1  # Probability that a road gets flooded\n",
    "\n",
    "G = generate_random_graph(graph_size)\n",
    "\n",
    "# apply flood conditions once\n",
    "graph = apply_flood_conditions(G, flooded_road_probability)\n",
    "# graph = nxcg.from_networkx(graph)"
   ],
   "outputs": [],
   "execution_count": 16
  },
  {
   "cell_type": "code",
   "id": "81489977-c387-40b8-a9b4-843ce8383a53",
   "metadata": {
    "ExecuteTime": {
     "end_time": "2024-11-01T01:52:00.644516Z",
     "start_time": "2024-11-01T01:50:42.253520Z"
    }
   },
   "source": [
    "# Run the simulation\n",
    "algorithm_performance = monte_carlo_simulation(graph, iterations)"
   ],
   "outputs": [
    {
     "name": "stderr",
     "output_type": "stream",
     "text": [
      "100%|██████████| 1000/1000 [01:18<00:00, 12.76it/s]\n"
     ]
    }
   ],
   "execution_count": 17
  },
  {
   "cell_type": "code",
   "id": "a8479ff8-d9c9-4f56-8a2a-fe9215795e7d",
   "metadata": {
    "ExecuteTime": {
     "end_time": "2024-11-01T01:52:08.248544Z",
     "start_time": "2024-11-01T01:52:07.857169Z"
    }
   },
   "source": [
    "# Choose the best algorithm based on performance\n",
    "best_algorithm, best_path = choose_best_algorithm(algorithm_performance)\n",
    "\n",
    "# Display the best algorithm's path\n",
    "print(f\"Best path found by {best_algorithm}: {best_path}\")\n",
    "\n",
    "# Plot the average performance\n",
    "average_performance = {\n",
    "    algo: sum(duration for duration, _ in times) / len(times)\n",
    "    for algo, times in algorithm_performance.items()\n",
    "}\n",
    "plt.bar(average_performance.keys(), average_performance.values())\n",
    "plt.title(f\"Average Algorithm Performance (Lower is Better), Iterations: {iterations}\")\n",
    "plt.yscale('log')\n",
    "plt.xlabel(\"Algorithm\")\n",
    "plt.ylabel(\"Average Time (s) / Infinite Cost (logarithmic scale)\")\n",
    "plt.xticks(rotation=45)\n",
    "plt.show()"
   ],
   "outputs": [
    {
     "name": "stdout",
     "output_type": "stream",
     "text": [
      "Best algorithm: Bidirectional\n",
      "Dijkstra: 0.0002 seconds (average)\n",
      "Floyd-Warshall: inf seconds (average)\n",
      "Bellman-Ford: 0.0065 seconds (average)\n",
      "Bidirectional: 0.0001 seconds (average)\n",
      "Dynamic: 0.0001 seconds (average)\n",
      "A* Search: 0.0002 seconds (average)\n",
      "Yen's K-Shortest Paths: inf seconds (average)\n",
      "Best path found by Bidirectional: [39, 3]\n"
     ]
    },
    {
     "data": {
      "text/plain": [
       "<Figure size 640x480 with 1 Axes>"
      ],
      "image/png": "[encoded data removed]"
     },
     "metadata": {},
     "output_type": "display_data"
    }
   ],
   "execution_count": 18
  },
  {
   "cell_type": "markdown",
   "id": "67657b7f-4d11-47ac-bbd2-ad915ab0f8ea",
   "metadata": {},
   "source": [
    "### Import Graph of Metro Manila\n"
   ]
  },
  {
   "cell_type": "code",
   "execution_count": 23,
   "id": "e49ddb6e-3410-436e-81d9-63ee725b3d00",
   "metadata": {},
   "outputs": [],
   "source": [
    "# bounding box for Metro Manila\n",
    "NORTH_BBOX = 14.7430\n",
    "SOUTH_BBOX = 14.4560\n",
    "WEST_BBOX = 120.9306\n",
    "EAST_BBOX = 121.1353"
   ]
  },
  {
   "cell_type": "code",
   "execution_count": 24,
   "id": "6e76b751-5443-43d5-a958-478e43b2b43f",
   "metadata": {},
   "outputs": [],
   "source": [
    "METRO_MANILA_BOUNDING_BOX = (NORTH_BBOX, SOUTH_BBOX, EAST_BBOX, WEST_BBOX)"
   ]
  },
  {
   "cell_type": "code",
   "execution_count": 25,
   "id": "d33d5413-40ef-4f54-a989-6ae64b038f21",
   "metadata": {},
   "outputs": [
    {
     "name": "stderr",
     "output_type": "stream",
     "text": [
      "/tmp/ipykernel_290/3628828398.py:1: FutureWarning: The expected order of coordinates in `bbox` will change in the v2.0.0 release to `(left, bottom, right, top)`.\n",
      "  metro_manila_graph = ox.graph_from_bbox(bbox=METRO_MANILA_BOUNDING_BOX)\n"
     ]
    }
   ],
   "source": [
    "metro_manila_graph = ox.graph_from_bbox(bbox=METRO_MANILA_BOUNDING_BOX)"
   ]
  },
  {
   "cell_type": "code",
   "execution_count": 27,
   "id": "3bc3bd1d-2404-47b4-9ff7-1ff100a9b475",
   "metadata": {},
   "outputs": [],
   "source": [
    "ox.save_graphml(metro_manila_graph, '../graphs/graphml/metro_manila_graph.graphml')"
   ]
  },
  {
   "cell_type": "code",
   "id": "56e3de11-fad9-48f5-b486-a5bb5aeb47f5",
   "metadata": {
    "jupyter": {
     "is_executing": true
    },
    "ExecuteTime": {
     "start_time": "2024-11-01T01:52:56.855719Z"
    }
   },
   "source": [
    "fp = '../graphs/graphml/metro_manila_graph.graphml'\n",
    "metro_manila_graph = ox.load_graphml(fp)"
   ],
   "outputs": [],
   "execution_count": null
  },
  {
   "cell_type": "code",
   "execution_count": 26,
   "id": "7eb2a4d0-323c-43a1-b259-c86f0f3017fd",
   "metadata": {},
   "outputs": [
    {
     "data": {
      "image/png": "[encoded data removed]",
      "text/plain": [
       "<Figure size 800x800 with 1 Axes>"
      ]
     },
     "metadata": {},
     "output_type": "display_data"
    },
    {
     "data": {
      "text/plain": [
       "(<Figure size 800x800 with 1 Axes>, <Axes: >)"
      ]
     },
     "execution_count": 26,
     "metadata": {},
     "output_type": "execute_result"
    }
   ],
   "source": [
    "ox.plot_graph(metro_manila_graph, bgcolor='#ffffff', node_color='#000000', edge_color='#000000')"
   ]
  },
  {
   "cell_type": "code",
   "execution_count": 5,
   "id": "f69b80dc-9076-40da-b5ae-aaed3e5e4da8",
   "metadata": {},
   "outputs": [],
   "source": [
    "gdf_nodes, gdf_edges = ox.graph_to_gdfs(metro_manila_graph)"
   ]
  },
  {
   "cell_type": "code",
   "execution_count": 6,
   "id": "c9162659-d691-4bbd-a432-d9c3c124de8c",
   "metadata": {},
   "outputs": [
    {
     "data": {
      "text/html": [
       "<div>\n",
       "<style scoped>\n",
       "    .dataframe tbody tr th:only-of-type {\n",
       "        vertical-align: middle;\n",
       "    }\n",
       "\n",
       "    .dataframe tbody tr th {\n",
       "        vertical-align: top;\n",
       "    }\n",
       "\n",
       "    .dataframe thead th {\n",
       "        text-align: right;\n",
       "    }\n",
       "</style>\n",
       "<table border=\"1\" class=\"dataframe\">\n",
       "  <thead>\n",
       "    <tr style=\"text-align: right;\">\n",
       "      <th></th>\n",
       "      <th>y</th>\n",
       "      <th>x</th>\n",
       "      <th>street_count</th>\n",
       "      <th>highway</th>\n",
       "      <th>ref</th>\n",
       "      <th>geometry</th>\n",
       "    </tr>\n",
       "    <tr>\n",
       "      <th>osmid</th>\n",
       "      <th></th>\n",
       "      <th></th>\n",
       "      <th></th>\n",
       "      <th></th>\n",
       "      <th></th>\n",
       "      <th></th>\n",
       "    </tr>\n",
       "  </thead>\n",
       "  <tbody>\n",
       "    <tr>\n",
       "      <th>12067302</th>\n",
       "      <td>14.541506</td>\n",
       "      <td>120.994972</td>\n",
       "      <td>3</td>\n",
       "      <td>NaN</td>\n",
       "      <td>NaN</td>\n",
       "      <td>POINT (120.99497 14.54151)</td>\n",
       "    </tr>\n",
       "    <tr>\n",
       "      <th>12067308</th>\n",
       "      <td>14.537867</td>\n",
       "      <td>120.995733</td>\n",
       "      <td>3</td>\n",
       "      <td>NaN</td>\n",
       "      <td>NaN</td>\n",
       "      <td>POINT (120.99573 14.53787)</td>\n",
       "    </tr>\n",
       "    <tr>\n",
       "      <th>12067317</th>\n",
       "      <td>14.540634</td>\n",
       "      <td>120.992152</td>\n",
       "      <td>3</td>\n",
       "      <td>NaN</td>\n",
       "      <td>NaN</td>\n",
       "      <td>POINT (120.99215 14.54063)</td>\n",
       "    </tr>\n",
       "    <tr>\n",
       "      <th>12067327</th>\n",
       "      <td>14.556251</td>\n",
       "      <td>120.988315</td>\n",
       "      <td>3</td>\n",
       "      <td>NaN</td>\n",
       "      <td>NaN</td>\n",
       "      <td>POINT (120.98831 14.55625)</td>\n",
       "    </tr>\n",
       "    <tr>\n",
       "      <th>12067330</th>\n",
       "      <td>14.559643</td>\n",
       "      <td>120.987132</td>\n",
       "      <td>4</td>\n",
       "      <td>traffic_signals</td>\n",
       "      <td>NaN</td>\n",
       "      <td>POINT (120.98713 14.55964)</td>\n",
       "    </tr>\n",
       "  </tbody>\n",
       "</table>\n",
       "</div>"
      ],
      "text/plain": [
       "                  y           x  street_count          highway  ref  \\\n",
       "osmid                                                                 \n",
       "12067302  14.541506  120.994972             3              NaN  NaN   \n",
       "12067308  14.537867  120.995733             3              NaN  NaN   \n",
       "12067317  14.540634  120.992152             3              NaN  NaN   \n",
       "12067327  14.556251  120.988315             3              NaN  NaN   \n",
       "12067330  14.559643  120.987132             4  traffic_signals  NaN   \n",
       "\n",
       "                            geometry  \n",
       "osmid                                 \n",
       "12067302  POINT (120.99497 14.54151)  \n",
       "12067308  POINT (120.99573 14.53787)  \n",
       "12067317  POINT (120.99215 14.54063)  \n",
       "12067327  POINT (120.98831 14.55625)  \n",
       "12067330  POINT (120.98713 14.55964)  "
      ]
     },
     "execution_count": 6,
     "metadata": {},
     "output_type": "execute_result"
    }
   ],
   "source": [
    "gdf_nodes.head()"
   ]
  },
  {
   "cell_type": "code",
   "execution_count": 7,
   "id": "45159c99-97ba-4240-b589-75c058b4d48b",
   "metadata": {},
   "outputs": [
    {
     "data": {
      "text/html": [
       "<div>\n",
       "<style scoped>\n",
       "    .dataframe tbody tr th:only-of-type {\n",
       "        vertical-align: middle;\n",
       "    }\n",
       "\n",
       "    .dataframe tbody tr th {\n",
       "        vertical-align: top;\n",
       "    }\n",
       "\n",
       "    .dataframe thead th {\n",
       "        text-align: right;\n",
       "    }\n",
       "</style>\n",
       "<table border=\"1\" class=\"dataframe\">\n",
       "  <thead>\n",
       "    <tr style=\"text-align: right;\">\n",
       "      <th></th>\n",
       "      <th></th>\n",
       "      <th></th>\n",
       "      <th>osmid</th>\n",
       "      <th>name</th>\n",
       "      <th>highway</th>\n",
       "      <th>oneway</th>\n",
       "      <th>reversed</th>\n",
       "      <th>length</th>\n",
       "      <th>lanes</th>\n",
       "      <th>maxspeed</th>\n",
       "      <th>width</th>\n",
       "      <th>geometry</th>\n",
       "      <th>ref</th>\n",
       "      <th>access</th>\n",
       "      <th>junction</th>\n",
       "      <th>tunnel</th>\n",
       "      <th>bridge</th>\n",
       "      <th>service</th>\n",
       "    </tr>\n",
       "    <tr>\n",
       "      <th>u</th>\n",
       "      <th>v</th>\n",
       "      <th>key</th>\n",
       "      <th></th>\n",
       "      <th></th>\n",
       "      <th></th>\n",
       "      <th></th>\n",
       "      <th></th>\n",
       "      <th></th>\n",
       "      <th></th>\n",
       "      <th></th>\n",
       "      <th></th>\n",
       "      <th></th>\n",
       "      <th></th>\n",
       "      <th></th>\n",
       "      <th></th>\n",
       "      <th></th>\n",
       "      <th></th>\n",
       "      <th></th>\n",
       "    </tr>\n",
       "  </thead>\n",
       "  <tbody>\n",
       "    <tr>\n",
       "      <th rowspan=\"3\" valign=\"top\">12067302</th>\n",
       "      <th>1686647100</th>\n",
       "      <th>0</th>\n",
       "      <td>2667105</td>\n",
       "      <td>E. Manaloto Street</td>\n",
       "      <td>residential</td>\n",
       "      <td>False</td>\n",
       "      <td>True</td>\n",
       "      <td>129.271</td>\n",
       "      <td>NaN</td>\n",
       "      <td>NaN</td>\n",
       "      <td>NaN</td>\n",
       "      <td>LINESTRING (120.99497 14.54151, 120.99380 14.5...</td>\n",
       "      <td>NaN</td>\n",
       "      <td>NaN</td>\n",
       "      <td>NaN</td>\n",
       "      <td>NaN</td>\n",
       "      <td>NaN</td>\n",
       "      <td>NaN</td>\n",
       "    </tr>\n",
       "    <tr>\n",
       "      <th>2950125788</th>\n",
       "      <th>0</th>\n",
       "      <td>224039651</td>\n",
       "      <td>F. B. Harrison Street</td>\n",
       "      <td>secondary</td>\n",
       "      <td>False</td>\n",
       "      <td>False</td>\n",
       "      <td>34.788</td>\n",
       "      <td>2</td>\n",
       "      <td>40</td>\n",
       "      <td>8</td>\n",
       "      <td>LINESTRING (120.99497 14.54151, 120.99504 14.5...</td>\n",
       "      <td>NaN</td>\n",
       "      <td>NaN</td>\n",
       "      <td>NaN</td>\n",
       "      <td>NaN</td>\n",
       "      <td>NaN</td>\n",
       "      <td>NaN</td>\n",
       "    </tr>\n",
       "    <tr>\n",
       "      <th>6510185271</th>\n",
       "      <th>0</th>\n",
       "      <td>224039651</td>\n",
       "      <td>F. B. Harrison Street</td>\n",
       "      <td>secondary</td>\n",
       "      <td>False</td>\n",
       "      <td>True</td>\n",
       "      <td>64.711</td>\n",
       "      <td>2</td>\n",
       "      <td>40</td>\n",
       "      <td>8</td>\n",
       "      <td>LINESTRING (120.99497 14.54151, 120.99486 14.5...</td>\n",
       "      <td>NaN</td>\n",
       "      <td>NaN</td>\n",
       "      <td>NaN</td>\n",
       "      <td>NaN</td>\n",
       "      <td>NaN</td>\n",
       "      <td>NaN</td>\n",
       "    </tr>\n",
       "    <tr>\n",
       "      <th rowspan=\"2\" valign=\"top\">12067308</th>\n",
       "      <th>8562405196</th>\n",
       "      <th>0</th>\n",
       "      <td>224039655</td>\n",
       "      <td>F. B. Harrison Street</td>\n",
       "      <td>secondary</td>\n",
       "      <td>False</td>\n",
       "      <td>True</td>\n",
       "      <td>6.003</td>\n",
       "      <td>2</td>\n",
       "      <td>40</td>\n",
       "      <td>8</td>\n",
       "      <td>LINESTRING (120.99573 14.53787, 120.99572 14.5...</td>\n",
       "      <td>NaN</td>\n",
       "      <td>NaN</td>\n",
       "      <td>NaN</td>\n",
       "      <td>NaN</td>\n",
       "      <td>NaN</td>\n",
       "      <td>NaN</td>\n",
       "    </tr>\n",
       "    <tr>\n",
       "      <th>1723298722</th>\n",
       "      <th>0</th>\n",
       "      <td>[644875507, 840378998]</td>\n",
       "      <td>EDSA</td>\n",
       "      <td>trunk</td>\n",
       "      <td>True</td>\n",
       "      <td>False</td>\n",
       "      <td>175.734</td>\n",
       "      <td>[4, 5]</td>\n",
       "      <td>60</td>\n",
       "      <td>NaN</td>\n",
       "      <td>LINESTRING (120.99573 14.53787, 120.99516 14.5...</td>\n",
       "      <td>1</td>\n",
       "      <td>NaN</td>\n",
       "      <td>NaN</td>\n",
       "      <td>NaN</td>\n",
       "      <td>NaN</td>\n",
       "      <td>NaN</td>\n",
       "    </tr>\n",
       "  </tbody>\n",
       "</table>\n",
       "</div>"
      ],
      "text/plain": [
       "                                          osmid                   name  \\\n",
       "u        v          key                                                  \n",
       "12067302 1686647100 0                   2667105     E. Manaloto Street   \n",
       "         2950125788 0                 224039651  F. B. Harrison Street   \n",
       "         6510185271 0                 224039651  F. B. Harrison Street   \n",
       "12067308 8562405196 0                 224039655  F. B. Harrison Street   \n",
       "         1723298722 0    [644875507, 840378998]                   EDSA   \n",
       "\n",
       "                             highway  oneway reversed   length   lanes  \\\n",
       "u        v          key                                                  \n",
       "12067302 1686647100 0    residential   False     True  129.271     NaN   \n",
       "         2950125788 0      secondary   False    False   34.788       2   \n",
       "         6510185271 0      secondary   False     True   64.711       2   \n",
       "12067308 8562405196 0      secondary   False     True    6.003       2   \n",
       "         1723298722 0          trunk    True    False  175.734  [4, 5]   \n",
       "\n",
       "                        maxspeed width  \\\n",
       "u        v          key                  \n",
       "12067302 1686647100 0        NaN   NaN   \n",
       "         2950125788 0         40     8   \n",
       "         6510185271 0         40     8   \n",
       "12067308 8562405196 0         40     8   \n",
       "         1723298722 0         60   NaN   \n",
       "\n",
       "                                                                  geometry  \\\n",
       "u        v          key                                                      \n",
       "12067302 1686647100 0    LINESTRING (120.99497 14.54151, 120.99380 14.5...   \n",
       "         2950125788 0    LINESTRING (120.99497 14.54151, 120.99504 14.5...   \n",
       "         6510185271 0    LINESTRING (120.99497 14.54151, 120.99486 14.5...   \n",
       "12067308 8562405196 0    LINESTRING (120.99573 14.53787, 120.99572 14.5...   \n",
       "         1723298722 0    LINESTRING (120.99573 14.53787, 120.99516 14.5...   \n",
       "\n",
       "                         ref access junction tunnel bridge service  \n",
       "u        v          key                                             \n",
       "12067302 1686647100 0    NaN    NaN      NaN    NaN    NaN     NaN  \n",
       "         2950125788 0    NaN    NaN      NaN    NaN    NaN     NaN  \n",
       "         6510185271 0    NaN    NaN      NaN    NaN    NaN     NaN  \n",
       "12067308 8562405196 0    NaN    NaN      NaN    NaN    NaN     NaN  \n",
       "         1723298722 0      1    NaN      NaN    NaN    NaN     NaN  "
      ]
     },
     "execution_count": 7,
     "metadata": {},
     "output_type": "execute_result"
    }
   ],
   "source": [
    "gdf_edges.head()"
   ]
  },
  {
   "cell_type": "code",
   "execution_count": 59,
   "id": "aa5c00e5-0df6-423c-8153-b68444f9530f",
   "metadata": {},
   "outputs": [],
   "source": [
    "pandas_graph = nx.to_pandas_edgelist(metro_manila_graph)"
   ]
  },
  {
   "cell_type": "code",
   "execution_count": 65,
   "id": "7b47e0a8-f2f0-4431-9f4c-d0a764d692a6",
   "metadata": {},
   "outputs": [
    {
     "data": {
      "text/html": [
       "<div>\n",
       "<style scoped>\n",
       "    .dataframe tbody tr th:only-of-type {\n",
       "        vertical-align: middle;\n",
       "    }\n",
       "\n",
       "    .dataframe tbody tr th {\n",
       "        vertical-align: top;\n",
       "    }\n",
       "\n",
       "    .dataframe thead th {\n",
       "        text-align: right;\n",
       "    }\n",
       "</style>\n",
       "<table border=\"1\" class=\"dataframe\">\n",
       "  <thead>\n",
       "    <tr style=\"text-align: right;\">\n",
       "      <th></th>\n",
       "      <th>source</th>\n",
       "      <th>target</th>\n",
       "      <th>lanes</th>\n",
       "      <th>length</th>\n",
       "      <th>access</th>\n",
       "      <th>width</th>\n",
       "      <th>highway</th>\n",
       "      <th>name</th>\n",
       "      <th>ref</th>\n",
       "      <th>reversed</th>\n",
       "      <th>service</th>\n",
       "      <th>bridge</th>\n",
       "      <th>junction</th>\n",
       "      <th>geometry</th>\n",
       "      <th>tunnel</th>\n",
       "      <th>maxspeed</th>\n",
       "      <th>oneway</th>\n",
       "      <th>osmid</th>\n",
       "    </tr>\n",
       "  </thead>\n",
       "  <tbody>\n",
       "    <tr>\n",
       "      <th>0</th>\n",
       "      <td>12067302</td>\n",
       "      <td>2950125788</td>\n",
       "      <td>2</td>\n",
       "      <td>34.788</td>\n",
       "      <td>NaN</td>\n",
       "      <td>8</td>\n",
       "      <td>secondary</td>\n",
       "      <td>F. B. Harrison Street</td>\n",
       "      <td>NaN</td>\n",
       "      <td>False</td>\n",
       "      <td>NaN</td>\n",
       "      <td>NaN</td>\n",
       "      <td>NaN</td>\n",
       "      <td>LINESTRING (120.9949722 14.5415061, 120.995042...</td>\n",
       "      <td>NaN</td>\n",
       "      <td>40</td>\n",
       "      <td>False</td>\n",
       "      <td>224039651</td>\n",
       "    </tr>\n",
       "    <tr>\n",
       "      <th>1</th>\n",
       "      <td>12067308</td>\n",
       "      <td>8562405196</td>\n",
       "      <td>2</td>\n",
       "      <td>6.003</td>\n",
       "      <td>NaN</td>\n",
       "      <td>8</td>\n",
       "      <td>secondary</td>\n",
       "      <td>F. B. Harrison Street</td>\n",
       "      <td>NaN</td>\n",
       "      <td>True</td>\n",
       "      <td>NaN</td>\n",
       "      <td>NaN</td>\n",
       "      <td>NaN</td>\n",
       "      <td>NaN</td>\n",
       "      <td>NaN</td>\n",
       "      <td>40</td>\n",
       "      <td>False</td>\n",
       "      <td>224039655</td>\n",
       "    </tr>\n",
       "    <tr>\n",
       "      <th>2</th>\n",
       "      <td>12067308</td>\n",
       "      <td>1723298722</td>\n",
       "      <td>[4, 5]</td>\n",
       "      <td>175.734</td>\n",
       "      <td>NaN</td>\n",
       "      <td>NaN</td>\n",
       "      <td>trunk</td>\n",
       "      <td>EDSA</td>\n",
       "      <td>1</td>\n",
       "      <td>False</td>\n",
       "      <td>NaN</td>\n",
       "      <td>NaN</td>\n",
       "      <td>NaN</td>\n",
       "      <td>LINESTRING (120.9957327 14.5378672, 120.995158...</td>\n",
       "      <td>NaN</td>\n",
       "      <td>60</td>\n",
       "      <td>True</td>\n",
       "      <td>[644875507, 840378998]</td>\n",
       "    </tr>\n",
       "    <tr>\n",
       "      <th>3</th>\n",
       "      <td>12067317</td>\n",
       "      <td>21590567</td>\n",
       "      <td>1</td>\n",
       "      <td>20.808</td>\n",
       "      <td>NaN</td>\n",
       "      <td>NaN</td>\n",
       "      <td>service</td>\n",
       "      <td>NaN</td>\n",
       "      <td>NaN</td>\n",
       "      <td>False</td>\n",
       "      <td>NaN</td>\n",
       "      <td>NaN</td>\n",
       "      <td>NaN</td>\n",
       "      <td>NaN</td>\n",
       "      <td>NaN</td>\n",
       "      <td>NaN</td>\n",
       "      <td>False</td>\n",
       "      <td>4075803</td>\n",
       "    </tr>\n",
       "    <tr>\n",
       "      <th>4</th>\n",
       "      <td>12067317</td>\n",
       "      <td>25389240</td>\n",
       "      <td>4</td>\n",
       "      <td>13.166</td>\n",
       "      <td>NaN</td>\n",
       "      <td>NaN</td>\n",
       "      <td>trunk</td>\n",
       "      <td>Roxas Boulevard</td>\n",
       "      <td>120</td>\n",
       "      <td>False</td>\n",
       "      <td>NaN</td>\n",
       "      <td>NaN</td>\n",
       "      <td>NaN</td>\n",
       "      <td>NaN</td>\n",
       "      <td>NaN</td>\n",
       "      <td>60</td>\n",
       "      <td>True</td>\n",
       "      <td>909949886</td>\n",
       "    </tr>\n",
       "    <tr>\n",
       "      <th>...</th>\n",
       "      <td>...</td>\n",
       "      <td>...</td>\n",
       "      <td>...</td>\n",
       "      <td>...</td>\n",
       "      <td>...</td>\n",
       "      <td>...</td>\n",
       "      <td>...</td>\n",
       "      <td>...</td>\n",
       "      <td>...</td>\n",
       "      <td>...</td>\n",
       "      <td>...</td>\n",
       "      <td>...</td>\n",
       "      <td>...</td>\n",
       "      <td>...</td>\n",
       "      <td>...</td>\n",
       "      <td>...</td>\n",
       "      <td>...</td>\n",
       "      <td>...</td>\n",
       "    </tr>\n",
       "    <tr>\n",
       "      <th>344290</th>\n",
       "      <td>12285148891</td>\n",
       "      <td>12285148889</td>\n",
       "      <td>NaN</td>\n",
       "      <td>3.266</td>\n",
       "      <td>NaN</td>\n",
       "      <td>NaN</td>\n",
       "      <td>footway</td>\n",
       "      <td>NaN</td>\n",
       "      <td>NaN</td>\n",
       "      <td>True</td>\n",
       "      <td>NaN</td>\n",
       "      <td>NaN</td>\n",
       "      <td>NaN</td>\n",
       "      <td>NaN</td>\n",
       "      <td>NaN</td>\n",
       "      <td>NaN</td>\n",
       "      <td>False</td>\n",
       "      <td>1327842578</td>\n",
       "    </tr>\n",
       "    <tr>\n",
       "      <th>344291</th>\n",
       "      <td>12285148893</td>\n",
       "      <td>12285148894</td>\n",
       "      <td>NaN</td>\n",
       "      <td>4.771</td>\n",
       "      <td>NaN</td>\n",
       "      <td>NaN</td>\n",
       "      <td>footway</td>\n",
       "      <td>NaN</td>\n",
       "      <td>NaN</td>\n",
       "      <td>True</td>\n",
       "      <td>NaN</td>\n",
       "      <td>NaN</td>\n",
       "      <td>NaN</td>\n",
       "      <td>NaN</td>\n",
       "      <td>NaN</td>\n",
       "      <td>NaN</td>\n",
       "      <td>False</td>\n",
       "      <td>1327755851</td>\n",
       "    </tr>\n",
       "    <tr>\n",
       "      <th>344292</th>\n",
       "      <td>12285148893</td>\n",
       "      <td>1034880976</td>\n",
       "      <td>NaN</td>\n",
       "      <td>50.020</td>\n",
       "      <td>NaN</td>\n",
       "      <td>NaN</td>\n",
       "      <td>[steps, footway]</td>\n",
       "      <td>NaN</td>\n",
       "      <td>NaN</td>\n",
       "      <td>False</td>\n",
       "      <td>NaN</td>\n",
       "      <td>yes</td>\n",
       "      <td>NaN</td>\n",
       "      <td>LINESTRING (120.9771193 14.5951867, 120.977276...</td>\n",
       "      <td>NaN</td>\n",
       "      <td>NaN</td>\n",
       "      <td>False</td>\n",
       "      <td>[1327755850, 89184406, 1077730799]</td>\n",
       "    </tr>\n",
       "    <tr>\n",
       "      <th>344293</th>\n",
       "      <td>12285148893</td>\n",
       "      <td>12284519901</td>\n",
       "      <td>NaN</td>\n",
       "      <td>52.417</td>\n",
       "      <td>NaN</td>\n",
       "      <td>NaN</td>\n",
       "      <td>footway</td>\n",
       "      <td>NaN</td>\n",
       "      <td>NaN</td>\n",
       "      <td>[False, True]</td>\n",
       "      <td>NaN</td>\n",
       "      <td>NaN</td>\n",
       "      <td>NaN</td>\n",
       "      <td>LINESTRING (120.9771193 14.5951867, 120.977081...</td>\n",
       "      <td>NaN</td>\n",
       "      <td>NaN</td>\n",
       "      <td>False</td>\n",
       "      <td>[1327755851, 1327755855]</td>\n",
       "    </tr>\n",
       "    <tr>\n",
       "      <th>344294</th>\n",
       "      <td>12285148893</td>\n",
       "      <td>12285148878</td>\n",
       "      <td>NaN</td>\n",
       "      <td>100.905</td>\n",
       "      <td>NaN</td>\n",
       "      <td>NaN</td>\n",
       "      <td>footway</td>\n",
       "      <td>NaN</td>\n",
       "      <td>NaN</td>\n",
       "      <td>False</td>\n",
       "      <td>NaN</td>\n",
       "      <td>NaN</td>\n",
       "      <td>NaN</td>\n",
       "      <td>LINESTRING (120.9771193 14.5951867, 120.977405...</td>\n",
       "      <td>yes</td>\n",
       "      <td>NaN</td>\n",
       "      <td>False</td>\n",
       "      <td>[1327755856, 1327842579, 1327755847]</td>\n",
       "    </tr>\n",
       "  </tbody>\n",
       "</table>\n",
       "<p>344295 rows × 18 columns</p>\n",
       "</div>"
      ],
      "text/plain": [
       "             source       target   lanes   length access width  \\\n",
       "0          12067302   2950125788       2   34.788    NaN     8   \n",
       "1          12067308   8562405196       2    6.003    NaN     8   \n",
       "2          12067308   1723298722  [4, 5]  175.734    NaN   NaN   \n",
       "3          12067317     21590567       1   20.808    NaN   NaN   \n",
       "4          12067317     25389240       4   13.166    NaN   NaN   \n",
       "...             ...          ...     ...      ...    ...   ...   \n",
       "344290  12285148891  12285148889     NaN    3.266    NaN   NaN   \n",
       "344291  12285148893  12285148894     NaN    4.771    NaN   NaN   \n",
       "344292  12285148893   1034880976     NaN   50.020    NaN   NaN   \n",
       "344293  12285148893  12284519901     NaN   52.417    NaN   NaN   \n",
       "344294  12285148893  12285148878     NaN  100.905    NaN   NaN   \n",
       "\n",
       "                 highway                   name  ref       reversed service  \\\n",
       "0              secondary  F. B. Harrison Street  NaN          False     NaN   \n",
       "1              secondary  F. B. Harrison Street  NaN           True     NaN   \n",
       "2                  trunk                   EDSA    1          False     NaN   \n",
       "3                service                    NaN  NaN          False     NaN   \n",
       "4                  trunk        Roxas Boulevard  120          False     NaN   \n",
       "...                  ...                    ...  ...            ...     ...   \n",
       "344290           footway                    NaN  NaN           True     NaN   \n",
       "344291           footway                    NaN  NaN           True     NaN   \n",
       "344292  [steps, footway]                    NaN  NaN          False     NaN   \n",
       "344293           footway                    NaN  NaN  [False, True]     NaN   \n",
       "344294           footway                    NaN  NaN          False     NaN   \n",
       "\n",
       "       bridge junction                                           geometry  \\\n",
       "0         NaN      NaN  LINESTRING (120.9949722 14.5415061, 120.995042...   \n",
       "1         NaN      NaN                                                NaN   \n",
       "2         NaN      NaN  LINESTRING (120.9957327 14.5378672, 120.995158...   \n",
       "3         NaN      NaN                                                NaN   \n",
       "4         NaN      NaN                                                NaN   \n",
       "...       ...      ...                                                ...   \n",
       "344290    NaN      NaN                                                NaN   \n",
       "344291    NaN      NaN                                                NaN   \n",
       "344292    yes      NaN  LINESTRING (120.9771193 14.5951867, 120.977276...   \n",
       "344293    NaN      NaN  LINESTRING (120.9771193 14.5951867, 120.977081...   \n",
       "344294    NaN      NaN  LINESTRING (120.9771193 14.5951867, 120.977405...   \n",
       "\n",
       "       tunnel maxspeed  oneway                                 osmid  \n",
       "0         NaN       40   False                             224039651  \n",
       "1         NaN       40   False                             224039655  \n",
       "2         NaN       60    True                [644875507, 840378998]  \n",
       "3         NaN      NaN   False                               4075803  \n",
       "4         NaN       60    True                             909949886  \n",
       "...       ...      ...     ...                                   ...  \n",
       "344290    NaN      NaN   False                            1327842578  \n",
       "344291    NaN      NaN   False                            1327755851  \n",
       "344292    NaN      NaN   False    [1327755850, 89184406, 1077730799]  \n",
       "344293    NaN      NaN   False              [1327755851, 1327755855]  \n",
       "344294    yes      NaN   False  [1327755856, 1327842579, 1327755847]  \n",
       "\n",
       "[344295 rows x 18 columns]"
      ]
     },
     "execution_count": 65,
     "metadata": {},
     "output_type": "execute_result"
    }
   ],
   "source": [
    "edge_map = mg.wrappers.EdgeMap.PandasEdgeMap(pandas_graph, 'source', 'target', 'length', is_directed=True)\n",
    "edge_map.value"
   ]
  },
  {
   "cell_type": "code",
   "execution_count": 66,
   "id": "c7417618-2cbe-4c9d-9fc5-6edcba5fa5f4",
   "metadata": {},
   "outputs": [
    {
     "data": {
      "text/plain": [
       "<metagraph.plugins.networkx.types.NetworkXGraph at 0x7f34950c57d0>"
      ]
     },
     "execution_count": 66,
     "metadata": {},
     "output_type": "execute_result"
    }
   ],
   "source": [
    "metro_manila_metagraph = mg.algos.util.graph.build(edge_map)\n",
    "metro_manila_metagraph"
   ]
  },
  {
   "cell_type": "code",
   "execution_count": 10,
   "id": "154a2c86-be24-45d9-bbd3-2679527b8809",
   "metadata": {},
   "outputs": [
    {
     "data": {
      "text/plain": [
       "Index(['osmid', 'name', 'highway', 'oneway', 'reversed', 'length', 'lanes',\n",
       "       'maxspeed', 'width', 'geometry', 'ref', 'access', 'junction', 'tunnel',\n",
       "       'bridge', 'service'],\n",
       "      dtype='object')"
      ]
     },
     "execution_count": 10,
     "metadata": {},
     "output_type": "execute_result"
    }
   ],
   "source": [
    "gdf_edges.columns"
   ]
  },
  {
   "cell_type": "code",
   "execution_count": 11,
   "id": "5eeb9fa5-81bf-4719-a08a-2aa690bb9ebf",
   "metadata": {},
   "outputs": [
    {
     "data": {
      "text/plain": [
       "Index(['y', 'x', 'street_count', 'highway', 'ref', 'geometry'], dtype='object')"
      ]
     },
     "execution_count": 11,
     "metadata": {},
     "output_type": "execute_result"
    }
   ],
   "source": [
    "gdf_nodes.columns"
   ]
  },
  {
   "cell_type": "code",
   "execution_count": 16,
   "id": "7d553fca-f3c2-4223-b838-149fb8cd77bf",
   "metadata": {},
   "outputs": [
    {
     "data": {
      "text/plain": [
       "[12067302,\n",
       " 2950125788,\n",
       " 5354424837,\n",
       " 24785165,\n",
       " 5651175582,\n",
       " 25388521,\n",
       " 8317435077,\n",
       " 25389123,\n",
       " 25388522,\n",
       " 978165773,\n",
       " 445413656,\n",
       " 8562405196,\n",
       " 12067308]"
      ]
     },
     "execution_count": 16,
     "metadata": {},
     "output_type": "execute_result"
    }
   ],
   "source": [
    "path = graph_search_algorithm_compilation.bidirectional_search(metro_manila_graph, 12067302, 12067308)\n",
    "path"
   ]
  },
  {
   "cell_type": "markdown",
   "id": "b0bec5e1-544a-4361-8d41-e35875f4c50f",
   "metadata": {},
   "source": [
    "#### Monte Carlo with Graph of Metro Manila"
   ]
  },
  {
   "cell_type": "code",
   "execution_count": null,
   "id": "b7dc2394-6c35-4fe6-95ef-91f928c501a6",
   "metadata": {},
   "outputs": [
    {
     "name": "stderr",
     "output_type": "stream",
     "text": [
      "  0%|          | 0/2 [6:22:16<?, ?it/s]\n"
     ]
    },
    {
     "ename": "KeyboardInterrupt",
     "evalue": "",
     "output_type": "error",
     "traceback": [
      "\u001B[0;31m---------------------------------------------------------------------------\u001B[0m",
      "\u001B[0;31mKeyboardInterrupt\u001B[0m                         Traceback (most recent call last)",
      "Cell \u001B[0;32mIn[17], line 4\u001B[0m\n\u001B[1;32m      2\u001B[0m flooded_road_probability \u001B[38;5;241m=\u001B[39m \u001B[38;5;241m0.1\u001B[39m\n\u001B[1;32m      3\u001B[0m metro_manila_graph_flooded \u001B[38;5;241m=\u001B[39m apply_flood_conditions(metro_manila_graph, flooded_road_probability)\n\u001B[0;32m----> 4\u001B[0m algorithm_performance \u001B[38;5;241m=\u001B[39m \u001B[43mmonte_carlo_simulation\u001B[49m\u001B[43m(\u001B[49m\u001B[43mmetro_manila_graph\u001B[49m\u001B[43m,\u001B[49m\u001B[43m \u001B[49m\u001B[43miterations\u001B[49m\u001B[43m)\u001B[49m\n",
      "Cell \u001B[0;32mIn[9], line 49\u001B[0m, in \u001B[0;36mmonte_carlo_simulation\u001B[0;34m(graph, num_iterations)\u001B[0m\n\u001B[1;32m     47\u001B[0m \u001B[38;5;66;03m# Step 4: Evaluate all algorithms in parallel over the same graph, flooded conditions, and source/target\u001B[39;00m\n\u001B[1;32m     48\u001B[0m \u001B[38;5;28;01mfor\u001B[39;00m _ \u001B[38;5;129;01min\u001B[39;00m tqdm(\u001B[38;5;28mrange\u001B[39m(num_iterations)):\n\u001B[0;32m---> 49\u001B[0m     results \u001B[38;5;241m=\u001B[39m \u001B[43mrun_in_parallel\u001B[49m\u001B[43m(\u001B[49m\u001B[43malgorithms\u001B[49m\u001B[43m,\u001B[49m\u001B[43m \u001B[49m\u001B[43mgraph\u001B[49m\u001B[38;5;241;43m.\u001B[39;49m\u001B[43mcopy\u001B[49m\u001B[43m(\u001B[49m\u001B[43m)\u001B[49m\u001B[43m,\u001B[49m\u001B[43m \u001B[49m\u001B[43msource\u001B[49m\u001B[43m,\u001B[49m\u001B[43m \u001B[49m\u001B[43mtarget\u001B[49m\u001B[43m)\u001B[49m\n\u001B[1;32m     51\u001B[0m     \u001B[38;5;66;03m# Store results in performance dictionary\u001B[39;00m\n\u001B[1;32m     52\u001B[0m     \u001B[38;5;28;01mfor\u001B[39;00m algo_name, result \u001B[38;5;129;01min\u001B[39;00m \u001B[38;5;28mzip\u001B[39m(algorithms\u001B[38;5;241m.\u001B[39mkeys(), results):\n",
      "Cell \u001B[0;32mIn[9], line 18\u001B[0m, in \u001B[0;36mrun_in_parallel\u001B[0;34m(algorithms, graph, source, target)\u001B[0m\n\u001B[1;32m     17\u001B[0m \u001B[38;5;28;01mdef\u001B[39;00m \u001B[38;5;21mrun_in_parallel\u001B[39m(algorithms, graph, source, target):\n\u001B[0;32m---> 18\u001B[0m     communities, supernode_graph \u001B[38;5;241m=\u001B[39m \u001B[43mdetect_communities_and_supernode_graph\u001B[49m\u001B[43m(\u001B[49m\u001B[43mgraph\u001B[49m\u001B[43m)\u001B[49m\n\u001B[1;32m     20\u001B[0m     delayed_results \u001B[38;5;241m=\u001B[39m [\n\u001B[1;32m     21\u001B[0m         evaluate_algorithm(graph, supernode_graph, communities, source, target, algo_func) \n\u001B[1;32m     22\u001B[0m         \u001B[38;5;28;01mfor\u001B[39;00m algo_func \u001B[38;5;129;01min\u001B[39;00m algorithms\u001B[38;5;241m.\u001B[39mvalues()\n\u001B[1;32m     23\u001B[0m     ]\n\u001B[1;32m     25\u001B[0m     results \u001B[38;5;241m=\u001B[39m compute(\u001B[38;5;241m*\u001B[39mdelayed_results)\n",
      "Cell \u001B[0;32mIn[9], line 31\u001B[0m, in \u001B[0;36mdetect_communities_and_supernode_graph\u001B[0;34m(G)\u001B[0m\n\u001B[1;32m     30\u001B[0m \u001B[38;5;28;01mdef\u001B[39;00m \u001B[38;5;21mdetect_communities_and_supernode_graph\u001B[39m(G):\n\u001B[0;32m---> 31\u001B[0m     communities \u001B[38;5;241m=\u001B[39m \u001B[43mnx\u001B[49m\u001B[38;5;241;43m.\u001B[39;49m\u001B[43mcommunity\u001B[49m\u001B[38;5;241;43m.\u001B[39;49m\u001B[43mlouvain_communities\u001B[49m\u001B[43m(\u001B[49m\u001B[43mG\u001B[49m\u001B[43m)\u001B[49m\n\u001B[1;32m     32\u001B[0m     supernode_graph \u001B[38;5;241m=\u001B[39m create_coarse_graph(G, communities)\n\u001B[1;32m     33\u001B[0m     \u001B[38;5;28;01mreturn\u001B[39;00m communities, supernode_graph\n",
      "File \u001B[0;32m<class 'networkx.utils.decorators.argmap'> compilation 10:4\u001B[0m, in \u001B[0;36margmap_louvain_communities_6\u001B[0;34m(G, weight, resolution, threshold, max_level, seed, backend, **backend_kwargs)\u001B[0m\n\u001B[1;32m      2\u001B[0m \u001B[38;5;28;01mimport\u001B[39;00m \u001B[38;5;21;01mcollections\u001B[39;00m\n\u001B[1;32m      3\u001B[0m \u001B[38;5;28;01mimport\u001B[39;00m \u001B[38;5;21;01mgzip\u001B[39;00m\n\u001B[0;32m----> 4\u001B[0m \u001B[38;5;28;01mimport\u001B[39;00m \u001B[38;5;21;01minspect\u001B[39;00m\n\u001B[1;32m      5\u001B[0m \u001B[38;5;28;01mimport\u001B[39;00m \u001B[38;5;21;01mitertools\u001B[39;00m\n\u001B[1;32m      6\u001B[0m \u001B[38;5;28;01mimport\u001B[39;00m \u001B[38;5;21;01mre\u001B[39;00m\n",
      "File \u001B[0;32m/opt/conda/lib/python3.11/site-packages/networkx/utils/backends.py:808\u001B[0m, in \u001B[0;36m_dispatchable.__call__\u001B[0;34m(self, backend, *args, **kwargs)\u001B[0m\n\u001B[1;32m    801\u001B[0m             \u001B[38;5;28;01mreturn\u001B[39;00m \u001B[38;5;28mself\u001B[39m\u001B[38;5;241m.\u001B[39m_convert_and_call(\n\u001B[1;32m    802\u001B[0m                 backend_name,\n\u001B[1;32m    803\u001B[0m                 args,\n\u001B[1;32m    804\u001B[0m                 kwargs,\n\u001B[1;32m    805\u001B[0m                 fallback_to_nx\u001B[38;5;241m=\u001B[39m\u001B[38;5;28mself\u001B[39m\u001B[38;5;241m.\u001B[39m_fallback_to_nx,\n\u001B[1;32m    806\u001B[0m             )\n\u001B[1;32m    807\u001B[0m \u001B[38;5;66;03m# Default: run with networkx on networkx inputs\u001B[39;00m\n\u001B[0;32m--> 808\u001B[0m \u001B[38;5;28;01mreturn\u001B[39;00m \u001B[38;5;28;43mself\u001B[39;49m\u001B[38;5;241;43m.\u001B[39;49m\u001B[43morig_func\u001B[49m\u001B[43m(\u001B[49m\u001B[38;5;241;43m*\u001B[39;49m\u001B[43margs\u001B[49m\u001B[43m,\u001B[49m\u001B[43m \u001B[49m\u001B[38;5;241;43m*\u001B[39;49m\u001B[38;5;241;43m*\u001B[39;49m\u001B[43mkwargs\u001B[49m\u001B[43m)\u001B[49m\n",
      "File \u001B[0;32m/opt/conda/lib/python3.11/site-packages/networkx/algorithms/community/louvain.py:128\u001B[0m, in \u001B[0;36mlouvain_communities\u001B[0;34m(G, weight, resolution, threshold, max_level, seed)\u001B[0m\n\u001B[1;32m    126\u001B[0m         \u001B[38;5;28;01mraise\u001B[39;00m \u001B[38;5;167;01mValueError\u001B[39;00m(\u001B[38;5;124m\"\u001B[39m\u001B[38;5;124mmax_level argument must be a positive integer or None\u001B[39m\u001B[38;5;124m\"\u001B[39m)\n\u001B[1;32m    127\u001B[0m     partitions \u001B[38;5;241m=\u001B[39m itertools\u001B[38;5;241m.\u001B[39mislice(partitions, max_level)\n\u001B[0;32m--> 128\u001B[0m final_partition \u001B[38;5;241m=\u001B[39m \u001B[43mdeque\u001B[49m\u001B[43m(\u001B[49m\u001B[43mpartitions\u001B[49m\u001B[43m,\u001B[49m\u001B[43m \u001B[49m\u001B[43mmaxlen\u001B[49m\u001B[38;5;241;43m=\u001B[39;49m\u001B[38;5;241;43m1\u001B[39;49m\u001B[43m)\u001B[49m\n\u001B[1;32m    129\u001B[0m \u001B[38;5;28;01mreturn\u001B[39;00m final_partition\u001B[38;5;241m.\u001B[39mpop()\n",
      "File \u001B[0;32m/opt/conda/lib/python3.11/site-packages/networkx/algorithms/community/louvain.py:206\u001B[0m, in \u001B[0;36mlouvain_partitions\u001B[0;34m(G, weight, resolution, threshold, seed)\u001B[0m\n\u001B[1;32m    203\u001B[0m     graph\u001B[38;5;241m.\u001B[39madd_weighted_edges_from(G\u001B[38;5;241m.\u001B[39medges(data\u001B[38;5;241m=\u001B[39mweight, default\u001B[38;5;241m=\u001B[39m\u001B[38;5;241m1\u001B[39m))\n\u001B[1;32m    205\u001B[0m m \u001B[38;5;241m=\u001B[39m graph\u001B[38;5;241m.\u001B[39msize(weight\u001B[38;5;241m=\u001B[39m\u001B[38;5;124m\"\u001B[39m\u001B[38;5;124mweight\u001B[39m\u001B[38;5;124m\"\u001B[39m)\n\u001B[0;32m--> 206\u001B[0m partition, inner_partition, improvement \u001B[38;5;241m=\u001B[39m \u001B[43m_one_level\u001B[49m\u001B[43m(\u001B[49m\n\u001B[1;32m    207\u001B[0m \u001B[43m    \u001B[49m\u001B[43mgraph\u001B[49m\u001B[43m,\u001B[49m\u001B[43m \u001B[49m\u001B[43mm\u001B[49m\u001B[43m,\u001B[49m\u001B[43m \u001B[49m\u001B[43mpartition\u001B[49m\u001B[43m,\u001B[49m\u001B[43m \u001B[49m\u001B[43mresolution\u001B[49m\u001B[43m,\u001B[49m\u001B[43m \u001B[49m\u001B[43mis_directed\u001B[49m\u001B[43m,\u001B[49m\u001B[43m \u001B[49m\u001B[43mseed\u001B[49m\n\u001B[1;32m    208\u001B[0m \u001B[43m\u001B[49m\u001B[43m)\u001B[49m\n\u001B[1;32m    209\u001B[0m improvement \u001B[38;5;241m=\u001B[39m \u001B[38;5;28;01mTrue\u001B[39;00m\n\u001B[1;32m    210\u001B[0m \u001B[38;5;28;01mwhile\u001B[39;00m improvement:\n\u001B[1;32m    211\u001B[0m     \u001B[38;5;66;03m# gh-5901 protect the sets in the yielded list from further manipulation here\u001B[39;00m\n",
      "File \u001B[0;32m/opt/conda/lib/python3.11/site-packages/networkx/algorithms/community/louvain.py:293\u001B[0m, in \u001B[0;36m_one_level\u001B[0;34m(G, m, partition, resolution, is_directed, seed)\u001B[0m\n\u001B[1;32m    289\u001B[0m     Stot[best_com] \u001B[38;5;241m-\u001B[39m\u001B[38;5;241m=\u001B[39m degree\n\u001B[1;32m    290\u001B[0m     remove_cost \u001B[38;5;241m=\u001B[39m \u001B[38;5;241m-\u001B[39mweights2com[best_com] \u001B[38;5;241m/\u001B[39m m \u001B[38;5;241m+\u001B[39m resolution \u001B[38;5;241m*\u001B[39m (\n\u001B[1;32m    291\u001B[0m         Stot[best_com] \u001B[38;5;241m*\u001B[39m degree\n\u001B[1;32m    292\u001B[0m     ) \u001B[38;5;241m/\u001B[39m (\u001B[38;5;241m2\u001B[39m \u001B[38;5;241m*\u001B[39m m\u001B[38;5;241m*\u001B[39m\u001B[38;5;241m*\u001B[39m\u001B[38;5;241m2\u001B[39m)\n\u001B[0;32m--> 293\u001B[0m \u001B[38;5;28;01mfor\u001B[39;00m nbr_com, wt \u001B[38;5;129;01min\u001B[39;00m \u001B[43mweights2com\u001B[49m\u001B[38;5;241;43m.\u001B[39;49m\u001B[43mitems\u001B[49m\u001B[43m(\u001B[49m\u001B[43m)\u001B[49m:\n\u001B[1;32m    294\u001B[0m     \u001B[38;5;28;01mif\u001B[39;00m is_directed:\n\u001B[1;32m    295\u001B[0m         gain \u001B[38;5;241m=\u001B[39m (\n\u001B[1;32m    296\u001B[0m             remove_cost\n\u001B[1;32m    297\u001B[0m             \u001B[38;5;241m+\u001B[39m wt \u001B[38;5;241m/\u001B[39m m\n\u001B[0;32m   (...)\u001B[0m\n\u001B[1;32m    303\u001B[0m             \u001B[38;5;241m/\u001B[39m m\u001B[38;5;241m*\u001B[39m\u001B[38;5;241m*\u001B[39m\u001B[38;5;241m2\u001B[39m\n\u001B[1;32m    304\u001B[0m         )\n",
      "\u001B[0;31mKeyboardInterrupt\u001B[0m: "
     ]
    }
   ],
   "source": [
    "iterations = 2\n",
    "flooded_road_probability = 0.1\n",
    "metro_manila_graph_flooded = apply_flood_conditions(metro_manila_graph, flooded_road_probability)\n",
    "algorithm_performance = monte_carlo_simulation(metro_manila_graph, iterations)"
   ]
  },
  {
   "cell_type": "code",
   "execution_count": null,
   "id": "e40e3b4b-a381-4c7a-b6e6-a417ce7e070a",
   "metadata": {},
   "outputs": [],
   "source": [
    "# Choose the best algorithm based on performance\n",
    "best_algorithm, best_path = choose_best_algorithm(algorithm_performance)\n",
    "\n",
    "# Display the best algorithm's path\n",
    "print(f\"Best path found by {best_algorithm}: {best_path}\")\n",
    "\n",
    "# Plot the average performance\n",
    "average_performance = {\n",
    "    algo: sum(duration for duration, _ in times) / len(times)\n",
    "    for algo, times in algorithm_performance.items()\n",
    "}\n",
    "plt.bar(average_performance.keys(), average_performance.values())\n",
    "plt.title(f\"Average Algorithm Performance (Lower is Better), Iterations: {iterations}\")\n",
    "plt.yscale('log')\n",
    "plt.xlabel(\"Algorithm\")\n",
    "plt.ylabel(\"Average Time (s) / Infinite Cost (logarithmic scale)\")\n",
    "plt.xticks(rotation=45)\n",
    "plt.show()"
   ]
  },
  {
   "cell_type": "markdown",
   "id": "88a8964b-b94f-41c6-a7e1-cc0241beaa13",
   "metadata": {},
   "source": [
    "### Conclusion"
   ]
  }
 ],
 "metadata": {
  "kernelspec": {
   "display_name": "Python 3 (ipykernel)",
   "language": "python",
   "name": "python3"
  },
  "language_info": {
   "codemirror_mode": {
    "name": "ipython",
    "version": 3
   },
   "file_extension": ".py",
   "mimetype": "text/x-python",
   "name": "python",
   "nbconvert_exporter": "python",
   "pygments_lexer": "ipython3",
   "version": "3.11.9"
  }
 },
 "nbformat": 4,
 "nbformat_minor": 5
}
