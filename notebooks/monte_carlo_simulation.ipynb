{
 "cells": [
  {
   "cell_type": "code",
   "execution_count": 1,
   "id": "fe1d965f-63fc-48a5-9aaf-581cb5df841b",
   "metadata": {},
   "outputs": [],
   "source": [
    "import graph_search_algorithm_compilation\n",
    "import matplotlib.pyplot as plt\n",
    "import networkx as nx\n",
    "import random\n",
    "import time\n",
    "\n",
    "# from joblib import Parallel, delayed\n",
    "from tqdm import tqdm\n",
    "from dask.distributed import Client\n",
    "from dask import delayed, compute"
   ]
  },
  {
   "cell_type": "code",
   "execution_count": 2,
   "id": "47369ba9-1af3-47b2-9274-9aa2a337cf0d",
   "metadata": {},
   "outputs": [
    {
     "name": "stderr",
     "output_type": "stream",
     "text": [
      "/opt/conda/lib/python3.11/site-packages/distributed/node.py:182: UserWarning: Port 8787 is already in use.\n",
      "Perhaps you already have a cluster running?\n",
      "Hosting the HTTP server on port 35113 instead\n",
      "  warnings.warn(\n"
     ]
    }
   ],
   "source": [
    "if 'client' in globals():\n",
    "    client.close()\n",
    "client = Client()"
   ]
  },
  {
   "cell_type": "code",
   "execution_count": 3,
   "id": "cc167984-2421-49ca-88e7-c8ec8818e4aa",
   "metadata": {},
   "outputs": [],
   "source": [
    "# Generate a random weighted graph for the simulation\n",
    "def generate_random_graph(num_nodes, prob=0.1, max_weight=10):\n",
    "    G = nx.gnp_random_graph(num_nodes, prob, directed=False)\n",
    "    for (u, v) in G.edges():\n",
    "        G.edges[u, v]['weight'] = random.randint(1, max_weight)\n",
    "    return G"
   ]
  },
  {
   "cell_type": "code",
   "execution_count": 4,
   "id": "67518673-cc40-45bd-8dcd-fb273e142e52",
   "metadata": {},
   "outputs": [],
   "source": [
    "# Apply flood conditions to the graph\n",
    "def apply_flood_conditions(G, flood_probability):\n",
    "    flooded_edges = []\n",
    "    for u, v in G.edges():\n",
    "        if random.random() < flood_probability:\n",
    "            flooded_edges.append((u, v))\n",
    "            G.remove_edge(u, v)  # Remove the flooded edges from the graph\n",
    "    return G"
   ]
  },
  {
   "cell_type": "code",
   "execution_count": 5,
   "id": "dcc6338a-077c-4da3-8e03-657780d1c903",
   "metadata": {},
   "outputs": [],
   "source": [
    "algorithms = {\n",
    "    \"Dijkstra\": graph_search_algorithm_compilation.dijkstra_search,\n",
    "    \"Floyd-Warshall\": graph_search_algorithm_compilation.floyd_warshall_search,\n",
    "    \"Bellman-Ford\": graph_search_algorithm_compilation.bellman_ford_search,\n",
    "    \"Bidirectional\": graph_search_algorithm_compilation.bidirectional_search,\n",
    "    \"Dynamic\": graph_search_algorithm_compilation.dynamic_shortest_path,\n",
    "    # \"D* Lite\": graph_search_algorithm_compilation.d_star_lite,\n",
    "    \"A* Search\": graph_search_algorithm_compilation.a_star_search,\n",
    "    # \"MCTS\": graph_search_algorithm_compilation.monte_carlo_tree_search,\n",
    "    \"Yen's K-Shortest Paths\": graph_search_algorithm_compilation.yen_k_shortest_paths,\n",
    "    # \"ACO\": graph_search_algorithm_compilation.ant_colony_optimization,\n",
    "}"
   ]
  },
  {
   "cell_type": "code",
   "execution_count": 6,
   "id": "695d0fb7-d7d9-4522-96bc-24b8fbb867f3",
   "metadata": {},
   "outputs": [],
   "source": [
    "# # Function to evaluate algorithm performance in each iteration\n",
    "# def evaluate_algorithm(algorithm_func, G, source, target):\n",
    "#     start_time = time.time()\n",
    "#     try:\n",
    "#         # Call the algorithm with (G, source, target, weight)\n",
    "#         path = algorithm_func(G, source, target, weight='weight')\n",
    "#         duration = time.time() - start_time\n",
    "#         # If no path is found, return infinite cost and an empty list for the path\n",
    "#         if path is None or len(path) == 0:\n",
    "#             return float('inf'), []  # Infinite cost for no path found\n",
    "#         return duration, path  # Return computation time and the path\n",
    "#     except Exception as e:\n",
    "#         return float('inf'), []  # Infinite cost for any errors\n",
    "\n",
    "\n",
    "# # Parallel execution using joblib\n",
    "# def run_in_parallel(algorithms, G, source, target):\n",
    "#     results = Parallel(n_jobs=-1)(delayed(evaluate_algorithm)(algo_func, G.copy(), source, target)\n",
    "#                                   for algo_func in algorithms.values())\n",
    "#     return results\n",
    "\n",
    "\n",
    "# # Monte Carlo Simulation: Run all algorithms in parallel on the same graph\n",
    "# def monte_carlo_simulation(num_iterations, graph_size, flood_probability):\n",
    "#     algorithm_performance = {name: [] for name in algorithms.keys()}  # Track performance for each algorithm\n",
    "\n",
    "#     # Generate the graph and apply flood conditions once\n",
    "#     G = generate_random_graph(graph_size)\n",
    "#     while not nx.is_connected(G):\n",
    "#         G = generate_random_graph(graph_size)\n",
    "#     G = apply_flood_conditions(G, flood_probability)\n",
    "\n",
    "#     source = random.choice(list(G.nodes()))\n",
    "#     target = random.choice(list(G.nodes()))\n",
    "\n",
    "#     # Ensure source and target are not the same\n",
    "#     while source == target:\n",
    "#         target = random.choice(list(G.nodes()))\n",
    "\n",
    "#     # Step 4: Evaluate all algorithms in parallel over the same graph, flooded conditions, and source/target\n",
    "#     for _ in range(num_iterations):\n",
    "#         results = run_in_parallel(algorithms, G, source, target)\n",
    "\n",
    "#         # Store results in performance dictionary\n",
    "#         for algo_name, result in zip(algorithms.keys(), results):\n",
    "#             algorithm_performance[algo_name].append(result)\n",
    "\n",
    "#     return algorithm_performance"
   ]
  },
  {
   "cell_type": "code",
   "execution_count": 7,
   "id": "81d34155-80c5-42f0-aa6e-3df4f50ab68e",
   "metadata": {},
   "outputs": [],
   "source": [
    "# Parallel execution using Dask\n",
    "@delayed\n",
    "def evaluate_algorithm(algorithm_func, G, source, target):\n",
    "    start_time = time.time()\n",
    "    try:\n",
    "        # Call the algorithm with (G, source, target, weight)\n",
    "        path = algorithm_func(G, source, target, weight='weight')\n",
    "        duration = time.time() - start_time\n",
    "        if path is None:\n",
    "            return float('inf'), []  # Infinite cost for no path found\n",
    "        return duration, path  # Return computation time and the path\n",
    "    except Exception as e:\n",
    "        return float('inf'), []  # Infinite cost for errors\n",
    "\n",
    "\n",
    "# Run algorithms in parallel using Dask\n",
    "def run_in_parallel(algorithms, G, source, target):\n",
    "    delayed_results = [evaluate_algorithm(algo_func, G.copy(), source, target) \n",
    "                       for algo_func in algorithms.values()]\n",
    "    results = compute(*delayed_results)\n",
    "    return results\n",
    "\n",
    "\n",
    "# Monte Carlo Simulation: Run all algorithms in parallel on the same graph\n",
    "def monte_carlo_simulation(num_iterations, graph_size, flood_probability):\n",
    "    algorithm_performance = {name: [] for name in algorithms.keys()}  # Track performance for each algorithm\n",
    "\n",
    "    # Generate the graph and apply flood conditions once\n",
    "    G = generate_random_graph(graph_size)\n",
    "    while not nx.is_connected(G):\n",
    "        G = generate_random_graph(graph_size)\n",
    "    G = apply_flood_conditions(G, flood_probability)\n",
    "\n",
    "    source = random.choice(list(G.nodes()))\n",
    "    target = random.choice(list(G.nodes()))\n",
    "\n",
    "    # Ensure source and target are not the same\n",
    "    while source == target:\n",
    "        target = random.choice(list(G.nodes()))\n",
    "\n",
    "    # Step 4: Evaluate all algorithms in parallel over the same graph, flooded conditions, and source/target\n",
    "    for _ in tqdm(range(num_iterations)):\n",
    "        results = run_in_parallel(algorithms, G, source, target)\n",
    "\n",
    "        # Store results in performance dictionary\n",
    "        for algo_name, result in zip(algorithms.keys(), results):\n",
    "            algorithm_performance[algo_name].append(result)\n",
    "\n",
    "    return algorithm_performance"
   ]
  },
  {
   "cell_type": "code",
   "execution_count": 8,
   "id": "30ebb045-5451-4fe4-85e5-5f702758f71f",
   "metadata": {},
   "outputs": [],
   "source": [
    "# Choose the best algorithm based on the performance and return the best result\n",
    "def choose_best_algorithm(algorithm_performance):\n",
    "    # Calculate average performance for each algorithm\n",
    "    avg_performance = {\n",
    "        algo: sum(duration for duration, _ in times) / len(times)\n",
    "        for algo, times in algorithm_performance.items()\n",
    "    }\n",
    "\n",
    "    # Select the algorithm with the lowest average time\n",
    "    best_algorithm = min(avg_performance, key=avg_performance.get)\n",
    "\n",
    "    # Output the performance of all algorithms\n",
    "    print(f\"Best algorithm: {best_algorithm}\")\n",
    "    for algo, avg_time in avg_performance.items():\n",
    "        print(f\"{algo}: {avg_time:.4f} seconds (average)\")\n",
    "\n",
    "    # Return the best algorithm and its last run output (path)\n",
    "    best_run = algorithm_performance[best_algorithm][-1]  # Get the last run result\n",
    "    return best_algorithm, best_run[1]  # Return the algorithm name and its path"
   ]
  },
  {
   "cell_type": "code",
   "execution_count": 9,
   "id": "99f1e106-a492-4675-ba8e-4811cfa2342a",
   "metadata": {},
   "outputs": [],
   "source": [
    "# Monte Carlo Simulation Parameters\n",
    "iterations = 1000  # Number of Monte Carlo iterations\n",
    "graph_size = 50    # Number of nodes in the graph\n",
    "flooded_road_probability = 0.1  # Probability that a road gets flooded"
   ]
  },
  {
   "cell_type": "code",
   "execution_count": 10,
   "id": "d014f0ca-c78f-4ed2-9fa0-aebf21c7e3d5",
   "metadata": {},
   "outputs": [
    {
     "name": "stderr",
     "output_type": "stream",
     "text": [
      "100%|██████████| 1000/1000 [00:49]\n"
     ]
    }
   ],
   "source": [
    "# Run the simulation\n",
    "algorithm_performance = monte_carlo_simulation(iterations, graph_size, flooded_road_probability)"
   ]
  },
  {
   "cell_type": "code",
   "execution_count": 11,
   "id": "a8479ff8-d9c9-4f56-8a2a-fe9215795e7d",
   "metadata": {},
   "outputs": [
    {
     "name": "stdout",
     "output_type": "stream",
     "text": [
      "Best algorithm: Bidirectional\n",
      "Dijkstra: 0.0002 seconds (average)\n",
      "Floyd-Warshall: 0.0242 seconds (average)\n",
      "Bellman-Ford: 0.0032 seconds (average)\n",
      "Bidirectional: 0.0000 seconds (average)\n",
      "Dynamic: 0.0002 seconds (average)\n",
      "A* Search: 0.0002 seconds (average)\n",
      "Yen's K-Shortest Paths: inf seconds (average)\n",
      "Best path found by Bidirectional: [43, 42]\n"
     ]
    },
    {
     "data": {
      "image/png": "[encoded data removed]",
      "text/plain": [
       "<Figure size 640x480 with 1 Axes>"
      ]
     },
     "metadata": {},
     "output_type": "display_data"
    }
   ],
   "source": [
    "# Choose the best algorithm based on performance\n",
    "best_algorithm, best_path = choose_best_algorithm(algorithm_performance)\n",
    "\n",
    "# Display the best algorithm's path\n",
    "print(f\"Best path found by {best_algorithm}: {best_path}\")\n",
    "\n",
    "# Plot the average performance\n",
    "average_performance = {\n",
    "    algo: sum(duration for duration, _ in times) / len(times)\n",
    "    for algo, times in algorithm_performance.items()\n",
    "}\n",
    "plt.bar(average_performance.keys(), average_performance.values())\n",
    "plt.title(f\"Average Algorithm Performance (Lower is Better), Iterations: {iterations}\")\n",
    "plt.yscale('log')\n",
    "plt.xlabel(\"Algorithm\")\n",
    "plt.ylabel(\"Average Time (s) / Infinite Cost (logarithmic scale)\")\n",
    "plt.xticks(rotation=45)\n",
    "plt.show()"
   ]
  },
  {
   "cell_type": "markdown",
   "id": "88a8964b-b94f-41c6-a7e1-cc0241beaa13",
   "metadata": {},
   "source": [
    "### Conclusion"
   ]
  }
 ],
 "metadata": {
  "kernelspec": {
   "display_name": "Python 3 (ipykernel)",
   "language": "python",
   "name": "python3"
  },
  "language_info": {
   "codemirror_mode": {
    "name": "ipython",
    "version": 3
   },
   "file_extension": ".py",
   "mimetype": "text/x-python",
   "name": "python",
   "nbconvert_exporter": "python",
   "pygments_lexer": "ipython3",
   "version": "3.11.9"
  }
 },
 "nbformat": 4,
 "nbformat_minor": 5
}
