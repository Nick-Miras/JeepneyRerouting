{
 "cells": [
  {
   "cell_type": "code",
   "execution_count": 1,
   "id": "cb592956-ec2e-4c63-8bd3-c0ade3dc6b12",
   "metadata": {},
   "outputs": [
    {
     "name": "stdout",
     "output_type": "stream",
     "text": [
      "\u001b[33mWARNING: Ignoring invalid distribution ~eopandas (/opt/conda/lib/python3.11/site-packages)\u001b[0m\u001b[33m\n",
      "\u001b[0m\u001b[33mWARNING: Ignoring invalid distribution ~eopandas (/opt/conda/lib/python3.11/site-packages)\u001b[0m\u001b[33m\n",
      "\u001b[0m\u001b[33mWARNING: Ignoring invalid distribution ~eopandas (/opt/conda/lib/python3.11/site-packages)\u001b[0m\u001b[33m\n",
      "\u001b[0m"
     ]
    }
   ],
   "source": [
    "!pip install -q osmnx"
   ]
  },
  {
   "cell_type": "code",
   "execution_count": 2,
   "id": "fe1d965f-63fc-48a5-9aaf-581cb5df841b",
   "metadata": {},
   "outputs": [],
   "source": [
    "import graph_search_algorithm_compilation\n",
    "import matplotlib.pyplot as plt\n",
    "import networkx as nx\n",
    "import random\n",
    "import time\n",
    "import osmnx as ox\n",
    "\n",
    "# from joblib import Parallel, delayed\n",
    "from tqdm import tqdm\n",
    "from dask.distributed import Client\n",
    "from dask import delayed, compute"
   ]
  },
  {
   "cell_type": "code",
   "execution_count": 3,
   "id": "47369ba9-1af3-47b2-9274-9aa2a337cf0d",
   "metadata": {},
   "outputs": [
    {
     "name": "stderr",
     "output_type": "stream",
     "text": [
      "/opt/conda/lib/python3.11/site-packages/distributed/node.py:182: UserWarning: Port 8787 is already in use.\n",
      "Perhaps you already have a cluster running?\n",
      "Hosting the HTTP server on port 35345 instead\n",
      "  warnings.warn(\n",
      "2024-10-24 12:36:58,887 - distributed.nanny.memory - WARNING - Worker tcp://127.0.0.1:39027 (pid=338) exceeded 95% memory budget. Restarting...\n",
      "2024-10-24 12:36:59,157 - distributed.scheduler - WARNING - Removing worker 'tcp://127.0.0.1:39027' caused the cluster to lose already computed task(s), which will be recomputed elsewhere: {'evaluate_algorithm-9b4bd0c6-bce2-4e1c-9f66-683c0757c392'} (stimulus_id='handle-worker-cleanup-1729773419.1568696')\n",
      "2024-10-24 12:37:04,862 - distributed.nanny - WARNING - Restarting worker\n",
      "2024-10-24 12:37:34,235 - distributed.nanny.memory - WARNING - Worker tcp://127.0.0.1:39381 (pid=327) exceeded 95% memory budget. Restarting...\n",
      "2024-10-24 12:37:34,510 - distributed.scheduler - WARNING - Removing worker 'tcp://127.0.0.1:39381' caused the cluster to lose already computed task(s), which will be recomputed elsewhere: {'evaluate_algorithm-7b6b9c9a-77a6-4408-988f-970b06a2c94c', 'evaluate_algorithm-0a620782-b927-4c84-8f70-075bacd38c2a'} (stimulus_id='handle-worker-cleanup-1729773454.5101264')\n",
      "2024-10-24 12:37:42,916 - distributed.nanny - WARNING - Restarting worker\n",
      "2024-10-24 12:38:15,388 - distributed.nanny.memory - WARNING - Worker tcp://127.0.0.1:34319 (pid=455) exceeded 95% memory budget. Restarting...\n",
      "2024-10-24 12:38:15,661 - distributed.scheduler - WARNING - Removing worker 'tcp://127.0.0.1:34319' caused the cluster to lose already computed task(s), which will be recomputed elsewhere: {'evaluate_algorithm-7b6b9c9a-77a6-4408-988f-970b06a2c94c'} (stimulus_id='handle-worker-cleanup-1729773495.6616607')\n",
      "2024-10-24 12:38:21,248 - distributed.nanny - WARNING - Restarting worker\n",
      "2024-10-24 12:38:51,736 - distributed.nanny.memory - WARNING - Worker tcp://127.0.0.1:33021 (pid=467) exceeded 95% memory budget. Restarting...\n",
      "2024-10-24 12:38:52,008 - distributed.scheduler - ERROR - Task evaluate_algorithm-3cba3d95-461e-4018-99d9-17d6bff9bd21 marked as failed because 4 workers died while trying to run it\n",
      "2024-10-24 12:38:52,011 - distributed.nanny - WARNING - Restarting worker\n"
     ]
    }
   ],
   "source": [
    "if 'client' in globals():\n",
    "    client.close()\n",
    "client = Client()"
   ]
  },
  {
   "cell_type": "code",
   "execution_count": 4,
   "id": "cc167984-2421-49ca-88e7-c8ec8818e4aa",
   "metadata": {},
   "outputs": [],
   "source": [
    "# Generate a random weighted graph for the simulation\n",
    "def generate_random_graph(num_nodes, prob=0.1, max_weight=10):\n",
    "    G = nx.gnp_random_graph(num_nodes, prob, directed=False)\n",
    "    for (u, v) in G.edges():\n",
    "        G.edges[u, v]['weight'] = random.randint(1, max_weight)\n",
    "    return G"
   ]
  },
  {
   "cell_type": "code",
   "execution_count": 5,
   "id": "67518673-cc40-45bd-8dcd-fb273e142e52",
   "metadata": {},
   "outputs": [],
   "source": [
    "# Apply flood conditions to the graph\n",
    "def apply_flood_conditions(G, flood_probability):\n",
    "    flooded_edges = []\n",
    "    for u, v in list(G.edges()):\n",
    "        if random.random() < flood_probability:\n",
    "            flooded_edges.append((u, v))\n",
    "            G.remove_edge(u, v)  # Remove the flooded edges from the graph\n",
    "    return G"
   ]
  },
  {
   "cell_type": "code",
   "execution_count": 6,
   "id": "dcc6338a-077c-4da3-8e03-657780d1c903",
   "metadata": {},
   "outputs": [],
   "source": [
    "algorithms = {\n",
    "    \"Dijkstra\": graph_search_algorithm_compilation.dijkstra_search,\n",
    "    \"Floyd-Warshall\": graph_search_algorithm_compilation.floyd_warshall_search,\n",
    "    \"Bellman-Ford\": graph_search_algorithm_compilation.bellman_ford_search,\n",
    "    \"Bidirectional\": graph_search_algorithm_compilation.bidirectional_search,\n",
    "    \"Dynamic\": graph_search_algorithm_compilation.dynamic_shortest_path,\n",
    "    # \"D* Lite\": graph_search_algorithm_compilation.d_star_lite,\n",
    "    \"A* Search\": graph_search_algorithm_compilation.a_star_search,\n",
    "    # \"MCTS\": graph_search_algorithm_compilation.monte_carlo_tree_search,\n",
    "    \"Yen's K-Shortest Paths\": graph_search_algorithm_compilation.yen_k_shortest_paths,\n",
    "    # \"ACO\": graph_search_algorithm_compilation.ant_colony_optimization,\n",
    "}"
   ]
  },
  {
   "cell_type": "code",
   "execution_count": 7,
   "id": "81d34155-80c5-42f0-aa6e-3df4f50ab68e",
   "metadata": {},
   "outputs": [],
   "source": [
    "# Parallel execution using Dask\n",
    "@delayed\n",
    "def evaluate_algorithm(algorithm_func, G, source, target):\n",
    "    start_time = time.time()\n",
    "    try:\n",
    "        # Call the algorithm with (G, source, target, weight)\n",
    "        path = algorithm_func(G, source, target, weight='weight')\n",
    "        duration = time.time() - start_time\n",
    "        if path is None:\n",
    "            return float('inf'), []  # Infinite cost for no path found\n",
    "        return duration, path  # Return computation time and the path\n",
    "    except Exception as e:\n",
    "        return float('inf'), []  # Infinite cost for errors\n",
    "\n",
    "\n",
    "# Run algorithms in parallel using Dask\n",
    "def run_in_parallel(algorithms, G, source, target):\n",
    "    delayed_results = [evaluate_algorithm(algo_func, G.copy(), source, target) \n",
    "                       for algo_func in algorithms.values()]\n",
    "    results = compute(*delayed_results)\n",
    "    return results\n",
    "\n",
    "\n",
    "# Monte Carlo Simulation: Run all algorithms in parallel on the same graph\n",
    "def monte_carlo_simulation(G, num_iterations, flood_probability):\n",
    "    algorithm_performance = {name: [] for name in algorithms.keys()}  # Track performance for each algorithm\n",
    "\n",
    "    G = apply_flood_conditions(G, flood_probability)\n",
    "    # Generate the graph and apply flood conditions once\n",
    "\n",
    "    source = random.choice(list(G.nodes()))\n",
    "    target = random.choice(list(G.nodes()))\n",
    "\n",
    "    # Ensure source and target are not the same\n",
    "    while source == target:\n",
    "        target = random.choice(list(G.nodes()))\n",
    "\n",
    "    # Step 4: Evaluate all algorithms in parallel over the same graph, flooded conditions, and source/target\n",
    "    for _ in tqdm(range(num_iterations)):\n",
    "        results = run_in_parallel(algorithms, G, source, target)\n",
    "\n",
    "        # Store results in performance dictionary\n",
    "        for algo_name, result in zip(algorithms.keys(), results):\n",
    "            algorithm_performance[algo_name].append(result)\n",
    "\n",
    "    return algorithm_performance"
   ]
  },
  {
   "cell_type": "code",
   "execution_count": 8,
   "id": "30ebb045-5451-4fe4-85e5-5f702758f71f",
   "metadata": {},
   "outputs": [],
   "source": [
    "# Choose the best algorithm based on the performance and return the best result\n",
    "def choose_best_algorithm(algorithm_performance):\n",
    "    # Calculate average performance for each algorithm\n",
    "    avg_performance = {\n",
    "        algo: sum(duration for duration, _ in times) / len(times)\n",
    "        for algo, times in algorithm_performance.items()\n",
    "    }\n",
    "\n",
    "    # Select the algorithm with the lowest average time\n",
    "    best_algorithm = min(avg_performance, key=avg_performance.get)\n",
    "\n",
    "    # Output the performance of all algorithms\n",
    "    print(f\"Best algorithm: {best_algorithm}\")\n",
    "    for algo, avg_time in avg_performance.items():\n",
    "        print(f\"{algo}: {avg_time:.4f} seconds (average)\")\n",
    "\n",
    "    # Return the best algorithm and its last run output (path)\n",
    "    best_run = algorithm_performance[best_algorithm][-1]  # Get the last run result\n",
    "    return best_algorithm, best_run[1]  # Return the algorithm name and its path"
   ]
  },
  {
   "cell_type": "code",
   "execution_count": 9,
   "id": "99f1e106-a492-4675-ba8e-4811cfa2342a",
   "metadata": {},
   "outputs": [],
   "source": [
    "# Monte Carlo Simulation Parameters\n",
    "iterations = 1000  # Number of Monte Carlo iterations\n",
    "graph_size = 50    # Number of nodes in the graph\n",
    "flooded_road_probability = 0.1  # Probability that a road gets flooded"
   ]
  },
  {
   "cell_type": "code",
   "execution_count": 10,
   "id": "8a08fbce-4d6b-4573-95c7-4e336949ca2e",
   "metadata": {},
   "outputs": [],
   "source": [
    "G = generate_random_graph(graph_size)\n",
    "while not nx.is_connected(G):\n",
    "    G = generate_random_graph(graph_size)\n",
    "G = apply_flood_conditions(G, flooded_road_probability)"
   ]
  },
  {
   "cell_type": "code",
   "execution_count": 11,
   "id": "d014f0ca-c78f-4ed2-9fa0-aebf21c7e3d5",
   "metadata": {},
   "outputs": [
    {
     "name": "stderr",
     "output_type": "stream",
     "text": [
      "100%|██████████| 1000/1000 [00:49<00:00, 20.04it/s]\n"
     ]
    }
   ],
   "source": [
    "# Run the simulation\n",
    "algorithm_performance = monte_carlo_simulation(G, iterations, flooded_road_probability)"
   ]
  },
  {
   "cell_type": "code",
   "execution_count": 12,
   "id": "a8479ff8-d9c9-4f56-8a2a-fe9215795e7d",
   "metadata": {},
   "outputs": [
    {
     "name": "stdout",
     "output_type": "stream",
     "text": [
      "Best algorithm: Bidirectional\n",
      "Dijkstra: 0.0002 seconds (average)\n",
      "Floyd-Warshall: 0.0242 seconds (average)\n",
      "Bellman-Ford: 0.0031 seconds (average)\n",
      "Bidirectional: 0.0000 seconds (average)\n",
      "Dynamic: 0.0001 seconds (average)\n",
      "A* Search: 0.0002 seconds (average)\n",
      "Yen's K-Shortest Paths: inf seconds (average)\n",
      "Best path found by Bidirectional: [19, 14, 39]\n"
     ]
    },
    {
     "data": {
      "image/png": "[encoded data removed]",
      "text/plain": [
       "<Figure size 640x480 with 1 Axes>"
      ]
     },
     "metadata": {},
     "output_type": "display_data"
    }
   ],
   "source": [
    "# Choose the best algorithm based on performance\n",
    "best_algorithm, best_path = choose_best_algorithm(algorithm_performance)\n",
    "\n",
    "# Display the best algorithm's path\n",
    "print(f\"Best path found by {best_algorithm}: {best_path}\")\n",
    "\n",
    "# Plot the average performance\n",
    "average_performance = {\n",
    "    algo: sum(duration for duration, _ in times) / len(times)\n",
    "    for algo, times in algorithm_performance.items()\n",
    "}\n",
    "plt.bar(average_performance.keys(), average_performance.values())\n",
    "plt.title(f\"Average Algorithm Performance (Lower is Better), Iterations: {iterations}\")\n",
    "plt.yscale('log')\n",
    "plt.xlabel(\"Algorithm\")\n",
    "plt.ylabel(\"Average Time (s) / Infinite Cost (logarithmic scale)\")\n",
    "plt.xticks(rotation=45)\n",
    "plt.show()"
   ]
  },
  {
   "cell_type": "markdown",
   "id": "67657b7f-4d11-47ac-bbd2-ad915ab0f8ea",
   "metadata": {},
   "source": [
    "### Import Graph of Metro Manila\n"
   ]
  },
  {
   "cell_type": "code",
   "execution_count": 23,
   "id": "e49ddb6e-3410-436e-81d9-63ee725b3d00",
   "metadata": {},
   "outputs": [],
   "source": [
    "# bounding box for Metro Manila\n",
    "NORTH_BBOX = 14.7430\n",
    "SOUTH_BBOX = 14.4560\n",
    "WEST_BBOX = 120.9306\n",
    "EAST_BBOX = 121.1353"
   ]
  },
  {
   "cell_type": "code",
   "execution_count": 24,
   "id": "6e76b751-5443-43d5-a958-478e43b2b43f",
   "metadata": {},
   "outputs": [],
   "source": [
    "METRO_MANILA_BOUNDING_BOX = (NORTH_BBOX, SOUTH_BBOX, EAST_BBOX, WEST_BBOX)"
   ]
  },
  {
   "cell_type": "code",
   "execution_count": 25,
   "id": "d33d5413-40ef-4f54-a989-6ae64b038f21",
   "metadata": {},
   "outputs": [
    {
     "name": "stderr",
     "output_type": "stream",
     "text": [
      "/tmp/ipykernel_290/3628828398.py:1: FutureWarning: The expected order of coordinates in `bbox` will change in the v2.0.0 release to `(left, bottom, right, top)`.\n",
      "  metro_manila_graph = ox.graph_from_bbox(bbox=METRO_MANILA_BOUNDING_BOX)\n"
     ]
    }
   ],
   "source": [
    "metro_manila_graph = ox.graph_from_bbox(bbox=METRO_MANILA_BOUNDING_BOX)"
   ]
  },
  {
   "cell_type": "code",
   "execution_count": 27,
   "id": "3bc3bd1d-2404-47b4-9ff7-1ff100a9b475",
   "metadata": {},
   "outputs": [],
   "source": [
    "ox.save_graphml(metro_manila_graph, '../graphs/graphml/metro_manila_graph.graphml')"
   ]
  },
  {
   "cell_type": "code",
   "execution_count": 13,
   "id": "56e3de11-fad9-48f5-b486-a5bb5aeb47f5",
   "metadata": {},
   "outputs": [],
   "source": [
    "fp = '../graphs/graphml/metro_manila_graph.graphml'\n",
    "metro_manila_graph = ox.load_graphml(fp)"
   ]
  },
  {
   "cell_type": "code",
   "execution_count": 26,
   "id": "7eb2a4d0-323c-43a1-b259-c86f0f3017fd",
   "metadata": {},
   "outputs": [
    {
     "data": {
      "image/png": "[encoded data removed]",
      "text/plain": [
       "<Figure size 800x800 with 1 Axes>"
      ]
     },
     "metadata": {},
     "output_type": "display_data"
    },
    {
     "data": {
      "text/plain": [
       "(<Figure size 800x800 with 1 Axes>, <Axes: >)"
      ]
     },
     "execution_count": 26,
     "metadata": {},
     "output_type": "execute_result"
    }
   ],
   "source": [
    "ox.plot_graph(metro_manila_graph, bgcolor='#ffffff', node_color='#000000', edge_color='#000000')"
   ]
  },
  {
   "cell_type": "code",
   "execution_count": 15,
   "id": "f69b80dc-9076-40da-b5ae-aaed3e5e4da8",
   "metadata": {},
   "outputs": [],
   "source": [
    "gdf_nodes, gdf_edges = ox.graph_to_gdfs(metro_manila_graph)"
   ]
  },
  {
   "cell_type": "code",
   "execution_count": 16,
   "id": "c9162659-d691-4bbd-a432-d9c3c124de8c",
   "metadata": {},
   "outputs": [
    {
     "data": {
      "text/html": [
       "<div>\n",
       "<style scoped>\n",
       "    .dataframe tbody tr th:only-of-type {\n",
       "        vertical-align: middle;\n",
       "    }\n",
       "\n",
       "    .dataframe tbody tr th {\n",
       "        vertical-align: top;\n",
       "    }\n",
       "\n",
       "    .dataframe thead th {\n",
       "        text-align: right;\n",
       "    }\n",
       "</style>\n",
       "<table border=\"1\" class=\"dataframe\">\n",
       "  <thead>\n",
       "    <tr style=\"text-align: right;\">\n",
       "      <th></th>\n",
       "      <th>y</th>\n",
       "      <th>x</th>\n",
       "      <th>street_count</th>\n",
       "      <th>highway</th>\n",
       "      <th>ref</th>\n",
       "      <th>geometry</th>\n",
       "    </tr>\n",
       "    <tr>\n",
       "      <th>osmid</th>\n",
       "      <th></th>\n",
       "      <th></th>\n",
       "      <th></th>\n",
       "      <th></th>\n",
       "      <th></th>\n",
       "      <th></th>\n",
       "    </tr>\n",
       "  </thead>\n",
       "  <tbody>\n",
       "    <tr>\n",
       "      <th>12067302</th>\n",
       "      <td>14.541506</td>\n",
       "      <td>120.994972</td>\n",
       "      <td>3</td>\n",
       "      <td>NaN</td>\n",
       "      <td>NaN</td>\n",
       "      <td>POINT (120.99497 14.54151)</td>\n",
       "    </tr>\n",
       "    <tr>\n",
       "      <th>12067308</th>\n",
       "      <td>14.537867</td>\n",
       "      <td>120.995733</td>\n",
       "      <td>3</td>\n",
       "      <td>NaN</td>\n",
       "      <td>NaN</td>\n",
       "      <td>POINT (120.99573 14.53787)</td>\n",
       "    </tr>\n",
       "    <tr>\n",
       "      <th>12067317</th>\n",
       "      <td>14.540634</td>\n",
       "      <td>120.992152</td>\n",
       "      <td>3</td>\n",
       "      <td>NaN</td>\n",
       "      <td>NaN</td>\n",
       "      <td>POINT (120.99215 14.54063)</td>\n",
       "    </tr>\n",
       "    <tr>\n",
       "      <th>12067327</th>\n",
       "      <td>14.556251</td>\n",
       "      <td>120.988315</td>\n",
       "      <td>3</td>\n",
       "      <td>NaN</td>\n",
       "      <td>NaN</td>\n",
       "      <td>POINT (120.98831 14.55625)</td>\n",
       "    </tr>\n",
       "    <tr>\n",
       "      <th>12067330</th>\n",
       "      <td>14.559643</td>\n",
       "      <td>120.987132</td>\n",
       "      <td>4</td>\n",
       "      <td>traffic_signals</td>\n",
       "      <td>NaN</td>\n",
       "      <td>POINT (120.98713 14.55964)</td>\n",
       "    </tr>\n",
       "  </tbody>\n",
       "</table>\n",
       "</div>"
      ],
      "text/plain": [
       "                  y           x  street_count          highway  ref  \\\n",
       "osmid                                                                 \n",
       "12067302  14.541506  120.994972             3              NaN  NaN   \n",
       "12067308  14.537867  120.995733             3              NaN  NaN   \n",
       "12067317  14.540634  120.992152             3              NaN  NaN   \n",
       "12067327  14.556251  120.988315             3              NaN  NaN   \n",
       "12067330  14.559643  120.987132             4  traffic_signals  NaN   \n",
       "\n",
       "                            geometry  \n",
       "osmid                                 \n",
       "12067302  POINT (120.99497 14.54151)  \n",
       "12067308  POINT (120.99573 14.53787)  \n",
       "12067317  POINT (120.99215 14.54063)  \n",
       "12067327  POINT (120.98831 14.55625)  \n",
       "12067330  POINT (120.98713 14.55964)  "
      ]
     },
     "execution_count": 16,
     "metadata": {},
     "output_type": "execute_result"
    }
   ],
   "source": [
    "gdf_nodes.head()"
   ]
  },
  {
   "cell_type": "code",
   "execution_count": 17,
   "id": "7d553fca-f3c2-4223-b838-149fb8cd77bf",
   "metadata": {},
   "outputs": [
    {
     "data": {
      "text/plain": [
       "[12067302,\n",
       " 2950125788,\n",
       " 5354424837,\n",
       " 24785165,\n",
       " 5651175582,\n",
       " 25388521,\n",
       " 8317435077,\n",
       " 25389123,\n",
       " 25388522,\n",
       " 978165773,\n",
       " 445413656,\n",
       " 8562405196,\n",
       " 12067308]"
      ]
     },
     "execution_count": 17,
     "metadata": {},
     "output_type": "execute_result"
    }
   ],
   "source": [
    "path = graph_search_algorithm_compilation.bidirectional_search(metro_manila_graph, 12067302, 12067308)\n",
    "path"
   ]
  },
  {
   "cell_type": "markdown",
   "id": "b0bec5e1-544a-4361-8d41-e35875f4c50f",
   "metadata": {},
   "source": [
    "#### Monte Carlo with Graph of Metro Manila"
   ]
  },
  {
   "cell_type": "code",
   "execution_count": 18,
   "id": "b7dc2394-6c35-4fe6-95ef-91f928c501a6",
   "metadata": {},
   "outputs": [
    {
     "name": "stderr",
     "output_type": "stream",
     "text": [
      "  0%|          | 0/2 [00:00<?, ?it/s]/opt/conda/lib/python3.11/site-packages/distributed/client.py:3362: UserWarning: Sending large graph of size 246.01 MiB.\n",
      "This may cause some slowdown.\n",
      "Consider loading the data with Dask directly\n",
      " or using futures or delayed objects to embed the data into the graph without repetition.\n",
      "See also https://docs.dask.org/en/stable/best-practices.html#load-data-with-dask for more information.\n",
      "  warnings.warn(\n",
      "2024-10-24 12:36:50,662 - distributed.worker.memory - WARNING - Unmanaged memory use is high. This may indicate a memory leak or the memory may not be released to the OS; see https://distributed.dask.org/en/latest/worker-memory.html#memory-not-released-back-to-the-os for more information. -- Unmanaged memory: 5.44 GiB -- Worker memory limit: 7.64 GiB\n",
      "2024-10-24 12:36:54,250 - distributed.worker.memory - WARNING - Worker is at 80% memory usage. Pausing worker.  Process memory: 6.12 GiB -- Worker memory limit: 7.64 GiB\n",
      "2024-10-24 12:37:25,295 - distributed.worker.memory - WARNING - Unmanaged memory use is high. This may indicate a memory leak or the memory may not be released to the OS; see https://distributed.dask.org/en/latest/worker-memory.html#memory-not-released-back-to-the-os for more information. -- Unmanaged memory: 5.38 GiB -- Worker memory limit: 7.64 GiB\n",
      "2024-10-24 12:37:29,639 - distributed.worker.memory - WARNING - gc.collect() took 1.282s. This is usually a sign that some tasks handle too many Python objects at the same time. Rechunking the work into smaller tasks might help.\n",
      "2024-10-24 12:37:29,644 - distributed.worker.memory - WARNING - Worker is at 80% memory usage. Pausing worker.  Process memory: 6.13 GiB -- Worker memory limit: 7.64 GiB\n",
      "2024-10-24 12:38:06,990 - distributed.worker.memory - WARNING - Unmanaged memory use is high. This may indicate a memory leak or the memory may not be released to the OS; see https://distributed.dask.org/en/latest/worker-memory.html#memory-not-released-back-to-the-os for more information. -- Unmanaged memory: 5.43 GiB -- Worker memory limit: 7.64 GiB\n",
      "2024-10-24 12:38:10,901 - distributed.worker.memory - WARNING - Worker is at 80% memory usage. Pausing worker.  Process memory: 6.17 GiB -- Worker memory limit: 7.64 GiB\n",
      "2024-10-24 12:38:43,565 - distributed.worker.memory - WARNING - Unmanaged memory use is high. This may indicate a memory leak or the memory may not be released to the OS; see https://distributed.dask.org/en/latest/worker-memory.html#memory-not-released-back-to-the-os for more information. -- Unmanaged memory: 5.37 GiB -- Worker memory limit: 7.64 GiB\n",
      "2024-10-24 12:38:47,215 - distributed.worker.memory - WARNING - Worker is at 80% memory usage. Pausing worker.  Process memory: 6.15 GiB -- Worker memory limit: 7.64 GiB\n",
      "  0%|          | 0/2 [03:32<?, ?it/s]\n"
     ]
    },
    {
     "ename": "KilledWorker",
     "evalue": "Attempted to run task 'evaluate_algorithm-3cba3d95-461e-4018-99d9-17d6bff9bd21' on 4 different workers, but all those workers died while running it. The last worker that attempt to run the task was tcp://127.0.0.1:33021. Inspecting worker logs is often a good next step to diagnose what went wrong. For more information see https://distributed.dask.org/en/stable/killed.html.",
     "output_type": "error",
     "traceback": [
      "\u001b[0;31m---------------------------------------------------------------------------\u001b[0m",
      "\u001b[0;31mKilledWorker\u001b[0m                              Traceback (most recent call last)",
      "Cell \u001b[0;32mIn[18], line 3\u001b[0m\n\u001b[1;32m      1\u001b[0m iterations \u001b[38;5;241m=\u001b[39m \u001b[38;5;241m2\u001b[39m\n\u001b[1;32m      2\u001b[0m flooded_road_probability \u001b[38;5;241m=\u001b[39m \u001b[38;5;241m0.1\u001b[39m\n\u001b[0;32m----> 3\u001b[0m algorithm_performance \u001b[38;5;241m=\u001b[39m \u001b[43mmonte_carlo_simulation\u001b[49m\u001b[43m(\u001b[49m\u001b[43mmetro_manila_graph\u001b[49m\u001b[43m,\u001b[49m\u001b[43m \u001b[49m\u001b[43miterations\u001b[49m\u001b[43m,\u001b[49m\u001b[43m \u001b[49m\u001b[43mflooded_road_probability\u001b[49m\u001b[43m)\u001b[49m\n",
      "Cell \u001b[0;32mIn[7], line 40\u001b[0m, in \u001b[0;36mmonte_carlo_simulation\u001b[0;34m(G, num_iterations, flood_probability)\u001b[0m\n\u001b[1;32m     38\u001b[0m \u001b[38;5;66;03m# Step 4: Evaluate all algorithms in parallel over the same graph, flooded conditions, and source/target\u001b[39;00m\n\u001b[1;32m     39\u001b[0m \u001b[38;5;28;01mfor\u001b[39;00m _ \u001b[38;5;129;01min\u001b[39;00m tqdm(\u001b[38;5;28mrange\u001b[39m(num_iterations)):\n\u001b[0;32m---> 40\u001b[0m     results \u001b[38;5;241m=\u001b[39m \u001b[43mrun_in_parallel\u001b[49m\u001b[43m(\u001b[49m\u001b[43malgorithms\u001b[49m\u001b[43m,\u001b[49m\u001b[43m \u001b[49m\u001b[43mG\u001b[49m\u001b[43m,\u001b[49m\u001b[43m \u001b[49m\u001b[43msource\u001b[49m\u001b[43m,\u001b[49m\u001b[43m \u001b[49m\u001b[43mtarget\u001b[49m\u001b[43m)\u001b[49m\n\u001b[1;32m     42\u001b[0m     \u001b[38;5;66;03m# Store results in performance dictionary\u001b[39;00m\n\u001b[1;32m     43\u001b[0m     \u001b[38;5;28;01mfor\u001b[39;00m algo_name, result \u001b[38;5;129;01min\u001b[39;00m \u001b[38;5;28mzip\u001b[39m(algorithms\u001b[38;5;241m.\u001b[39mkeys(), results):\n",
      "Cell \u001b[0;32mIn[7], line 20\u001b[0m, in \u001b[0;36mrun_in_parallel\u001b[0;34m(algorithms, G, source, target)\u001b[0m\n\u001b[1;32m     17\u001b[0m \u001b[38;5;28;01mdef\u001b[39;00m \u001b[38;5;21mrun_in_parallel\u001b[39m(algorithms, G, source, target):\n\u001b[1;32m     18\u001b[0m     delayed_results \u001b[38;5;241m=\u001b[39m [evaluate_algorithm(algo_func, G\u001b[38;5;241m.\u001b[39mcopy(), source, target) \n\u001b[1;32m     19\u001b[0m                        \u001b[38;5;28;01mfor\u001b[39;00m algo_func \u001b[38;5;129;01min\u001b[39;00m algorithms\u001b[38;5;241m.\u001b[39mvalues()]\n\u001b[0;32m---> 20\u001b[0m     results \u001b[38;5;241m=\u001b[39m \u001b[43mcompute\u001b[49m\u001b[43m(\u001b[49m\u001b[38;5;241;43m*\u001b[39;49m\u001b[43mdelayed_results\u001b[49m\u001b[43m)\u001b[49m\n\u001b[1;32m     21\u001b[0m     \u001b[38;5;28;01mreturn\u001b[39;00m results\n",
      "File \u001b[0;32m/opt/conda/lib/python3.11/site-packages/dask/base.py:662\u001b[0m, in \u001b[0;36mcompute\u001b[0;34m(traverse, optimize_graph, scheduler, get, *args, **kwargs)\u001b[0m\n\u001b[1;32m    659\u001b[0m     postcomputes\u001b[38;5;241m.\u001b[39mappend(x\u001b[38;5;241m.\u001b[39m__dask_postcompute__())\n\u001b[1;32m    661\u001b[0m \u001b[38;5;28;01mwith\u001b[39;00m shorten_traceback():\n\u001b[0;32m--> 662\u001b[0m     results \u001b[38;5;241m=\u001b[39m \u001b[43mschedule\u001b[49m\u001b[43m(\u001b[49m\u001b[43mdsk\u001b[49m\u001b[43m,\u001b[49m\u001b[43m \u001b[49m\u001b[43mkeys\u001b[49m\u001b[43m,\u001b[49m\u001b[43m \u001b[49m\u001b[38;5;241;43m*\u001b[39;49m\u001b[38;5;241;43m*\u001b[39;49m\u001b[43mkwargs\u001b[49m\u001b[43m)\u001b[49m\n\u001b[1;32m    664\u001b[0m \u001b[38;5;28;01mreturn\u001b[39;00m repack([f(r, \u001b[38;5;241m*\u001b[39ma) \u001b[38;5;28;01mfor\u001b[39;00m r, (f, a) \u001b[38;5;129;01min\u001b[39;00m \u001b[38;5;28mzip\u001b[39m(results, postcomputes)])\n",
      "File \u001b[0;32m/opt/conda/lib/python3.11/site-packages/distributed/client.py:2428\u001b[0m, in \u001b[0;36mClient._gather\u001b[0;34m(self, futures, errors, direct, local_worker)\u001b[0m\n\u001b[1;32m   2426\u001b[0m     exception \u001b[38;5;241m=\u001b[39m st\u001b[38;5;241m.\u001b[39mexception\n\u001b[1;32m   2427\u001b[0m     traceback \u001b[38;5;241m=\u001b[39m st\u001b[38;5;241m.\u001b[39mtraceback\n\u001b[0;32m-> 2428\u001b[0m     \u001b[38;5;28;01mraise\u001b[39;00m exception\u001b[38;5;241m.\u001b[39mwith_traceback(traceback)\n\u001b[1;32m   2429\u001b[0m \u001b[38;5;28;01mif\u001b[39;00m errors \u001b[38;5;241m==\u001b[39m \u001b[38;5;124m\"\u001b[39m\u001b[38;5;124mskip\u001b[39m\u001b[38;5;124m\"\u001b[39m:\n\u001b[1;32m   2430\u001b[0m     bad_keys\u001b[38;5;241m.\u001b[39madd(key)\n",
      "\u001b[0;31mKilledWorker\u001b[0m: Attempted to run task 'evaluate_algorithm-3cba3d95-461e-4018-99d9-17d6bff9bd21' on 4 different workers, but all those workers died while running it. The last worker that attempt to run the task was tcp://127.0.0.1:33021. Inspecting worker logs is often a good next step to diagnose what went wrong. For more information see https://distributed.dask.org/en/stable/killed.html."
     ]
    }
   ],
   "source": [
    "iterations = 2\n",
    "flooded_road_probability = 0.1\n",
    "algorithm_performance = monte_carlo_simulation(metro_manila_graph, iterations, flooded_road_probability)"
   ]
  },
  {
   "cell_type": "code",
   "execution_count": null,
   "id": "e40e3b4b-a381-4c7a-b6e6-a417ce7e070a",
   "metadata": {},
   "outputs": [],
   "source": [
    "# Choose the best algorithm based on performance\n",
    "best_algorithm, best_path = choose_best_algorithm(algorithm_performance)\n",
    "\n",
    "# Display the best algorithm's path\n",
    "print(f\"Best path found by {best_algorithm}: {best_path}\")\n",
    "\n",
    "# Plot the average performance\n",
    "average_performance = {\n",
    "    algo: sum(duration for duration, _ in times) / len(times)\n",
    "    for algo, times in algorithm_performance.items()\n",
    "}\n",
    "plt.bar(average_performance.keys(), average_performance.values())\n",
    "plt.title(f\"Average Algorithm Performance (Lower is Better), Iterations: {iterations}\")\n",
    "plt.yscale('log')\n",
    "plt.xlabel(\"Algorithm\")\n",
    "plt.ylabel(\"Average Time (s) / Infinite Cost (logarithmic scale)\")\n",
    "plt.xticks(rotation=45)\n",
    "plt.show()"
   ]
  },
  {
   "cell_type": "markdown",
   "id": "88a8964b-b94f-41c6-a7e1-cc0241beaa13",
   "metadata": {},
   "source": [
    "### Conclusion"
   ]
  }
 ],
 "metadata": {
  "kernelspec": {
   "display_name": "Python 3 (ipykernel)",
   "language": "python",
   "name": "python3"
  },
  "language_info": {
   "codemirror_mode": {
    "name": "ipython",
    "version": 3
   },
   "file_extension": ".py",
   "mimetype": "text/x-python",
   "name": "python",
   "nbconvert_exporter": "python",
   "pygments_lexer": "ipython3",
   "version": "3.11.9"
  }
 },
 "nbformat": 4,
 "nbformat_minor": 5
}
