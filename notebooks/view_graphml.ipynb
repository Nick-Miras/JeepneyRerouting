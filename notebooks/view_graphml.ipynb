{
 "cells": [
  {
   "cell_type": "code",
   "id": "initial_id",
   "metadata": {
    "collapsed": true,
    "ExecuteTime": {
     "end_time": "2024-09-21T01:37:30.263287Z",
     "start_time": "2024-09-21T01:37:26.785527Z"
    }
   },
   "source": "import osmnx as ox",
   "outputs": [],
   "execution_count": 1
  },
  {
   "metadata": {
    "ExecuteTime": {
     "end_time": "2024-09-21T01:38:21.900343Z",
     "start_time": "2024-09-21T01:38:11.369142Z"
    }
   },
   "cell_type": "code",
   "source": "graph = ox.load_graphml('graphs/graphml/2024-09-20 16-41-38.053633 graph.graphml')",
   "id": "f529b9038e34aba4",
   "outputs": [],
   "execution_count": 2
  },
  {
   "metadata": {},
   "cell_type": "code",
   "outputs": [],
   "execution_count": null,
   "source": "",
   "id": "5e3380d8b8883114"
  }
 ],
 "metadata": {
  "kernelspec": {
   "display_name": "Python 3",
   "language": "python",
   "name": "python3"
  },
  "language_info": {
   "codemirror_mode": {
    "name": "ipython",
    "version": 2
   },
   "file_extension": ".py",
   "mimetype": "text/x-python",
   "name": "python",
   "nbconvert_exporter": "python",
   "pygments_lexer": "ipython2",
   "version": "2.7.6"
  }
 },
 "nbformat": 4,
 "nbformat_minor": 5
}
