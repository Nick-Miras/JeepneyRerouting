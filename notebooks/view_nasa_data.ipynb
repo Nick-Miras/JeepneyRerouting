{
 "cells": [
  {
   "cell_type": "code",
   "id": "initial_id",
   "metadata": {
    "collapsed": true,
    "ExecuteTime": {
     "end_time": "2024-10-13T09:33:00.241373Z",
     "start_time": "2024-10-13T09:33:00.230602Z"
    }
   },
   "source": [
    "import xarray as xr\n",
    "import netCDF4 as nc\n",
    "import os"
   ],
   "outputs": [],
   "execution_count": 8
  },
  {
   "metadata": {
    "ExecuteTime": {
     "end_time": "2024-10-13T09:34:02.228203Z",
     "start_time": "2024-10-13T09:34:02.218317Z"
    }
   },
   "cell_type": "code",
   "source": [
    "# Load the data\n",
    "FILE_PATH = '/home/nick-miras/Programming/python/jeepneyRerouting/JeepneyRerouting/nasa_data/precipitation_data/2023-10-31.nc4'\n",
    "dataset = nc.Dataset(FILE_PATH)"
   ],
   "id": "ccf87f07695eeacc",
   "outputs": [],
   "execution_count": 11
  },
  {
   "metadata": {
    "ExecuteTime": {
     "end_time": "2024-10-13T09:34:02.947308Z",
     "start_time": "2024-10-13T09:34:02.927238Z"
    }
   },
   "cell_type": "code",
   "source": "dataset.variables.keys()",
   "id": "3c86aeb1982ce171",
   "outputs": [
    {
     "data": {
      "text/plain": [
       "dict_keys(['time', 'time_bnds', 'lon', 'lat', 'precipitation', 'precipitation_cnt', 'precipitation_cnt_cond', 'MWprecipitation', 'MWprecipitation_cnt', 'MWprecipitation_cnt_cond', 'probabilityLiquidPrecipitation'])"
      ]
     },
     "execution_count": 12,
     "metadata": {},
     "output_type": "execute_result"
    }
   ],
   "execution_count": 12
  },
  {
   "metadata": {
    "ExecuteTime": {
     "end_time": "2024-10-13T09:40:10.471652Z",
     "start_time": "2024-10-13T09:40:10.446698Z"
    }
   },
   "cell_type": "code",
   "outputs": [
    {
     "data": {
      "text/plain": [
       "{'time': <class 'netCDF4._netCDF4.Dimension'> (unlimited): name = 'time', size = 1,\n",
       " 'bnds': <class 'netCDF4._netCDF4.Dimension'>: name = 'bnds', size = 2,\n",
       " 'lon': <class 'netCDF4._netCDF4.Dimension'>: name = 'lon', size = 2,\n",
       " 'lat': <class 'netCDF4._netCDF4.Dimension'>: name = 'lat', size = 3}"
      ]
     },
     "execution_count": 15,
     "metadata": {},
     "output_type": "execute_result"
    }
   ],
   "execution_count": 15,
   "source": "dataset.dimensions",
   "id": "bcd3ed351a128a3e"
  },
  {
   "metadata": {
    "ExecuteTime": {
     "end_time": "2024-10-13T09:38:57.244548Z",
     "start_time": "2024-10-13T09:38:57.221142Z"
    }
   },
   "cell_type": "code",
   "source": "dataset.variables['lat']",
   "id": "820820b4e9211ff",
   "outputs": [
    {
     "data": {
      "text/plain": [
       "<class 'netCDF4._netCDF4.Variable'>\n",
       "float64 lat(lat)\n",
       "    standard_name: latitude\n",
       "    long_name: Latitude\n",
       "    units: degrees_north\n",
       "    axis: Y\n",
       "unlimited dimensions: \n",
       "current shape = (3,)\n",
       "filling off"
      ]
     },
     "execution_count": 14,
     "metadata": {},
     "output_type": "execute_result"
    }
   ],
   "execution_count": 14
  },
  {
   "metadata": {
    "ExecuteTime": {
     "end_time": "2024-10-13T09:41:37.630642Z",
     "start_time": "2024-10-13T09:41:37.609988Z"
    }
   },
   "cell_type": "code",
   "source": "dataset.variables['lat'][:]",
   "id": "8b059b0b1b3494d9",
   "outputs": [
    {
     "data": {
      "text/plain": [
       "masked_array(data=[14.45, 14.55, 14.65],\n",
       "             mask=False,\n",
       "       fill_value=1e+20)"
      ]
     },
     "execution_count": 16,
     "metadata": {},
     "output_type": "execute_result"
    }
   ],
   "execution_count": 16
  },
  {
   "metadata": {
    "ExecuteTime": {
     "end_time": "2024-10-13T09:41:45.932354Z",
     "start_time": "2024-10-13T09:41:45.908546Z"
    }
   },
   "cell_type": "code",
   "source": "dataset.variables['lon'][:]",
   "id": "5e68c94ae2055a78",
   "outputs": [
    {
     "data": {
      "text/plain": [
       "masked_array(data=[120.94999695, 121.05000305],\n",
       "             mask=False,\n",
       "       fill_value=1e+20)"
      ]
     },
     "execution_count": 17,
     "metadata": {},
     "output_type": "execute_result"
    }
   ],
   "execution_count": 17
  }
 ],
 "metadata": {
  "kernelspec": {
   "display_name": "Python 3",
   "language": "python",
   "name": "python3"
  },
  "language_info": {
   "codemirror_mode": {
    "name": "ipython",
    "version": 2
   },
   "file_extension": ".py",
   "mimetype": "text/x-python",
   "name": "python",
   "nbconvert_exporter": "python",
   "pygments_lexer": "ipython2",
   "version": "2.7.6"
  }
 },
 "nbformat": 4,
 "nbformat_minor": 5
}
