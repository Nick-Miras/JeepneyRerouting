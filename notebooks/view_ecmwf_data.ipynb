{
 "cells": [
  {
   "metadata": {},
   "cell_type": "markdown",
   "source": [
    "To run this example, you need an API key\n",
    "available from https://api.ecmwf.int/v1/key/"
   ],
   "id": "d66bc7031e831c75"
  },
  {
   "metadata": {
    "collapsed": true,
    "ExecuteTime": {
     "end_time": "2024-10-13T11:32:39.496947Z",
     "start_time": "2024-10-13T11:32:39.486568Z"
    }
   },
   "cell_type": "code",
   "source": "from ecmwfapi import ECMWFDataServer",
   "id": "initial_id",
   "outputs": [],
   "execution_count": 1
  },
  {
   "metadata": {
    "ExecuteTime": {
     "end_time": "2024-10-13T11:34:38.675627Z",
     "start_time": "2024-10-13T11:34:38.664976Z"
    }
   },
   "cell_type": "code",
   "source": "server = ECMWFDataServer()",
   "id": "6a531a028dbc62da",
   "outputs": [],
   "execution_count": 3
  },
  {
   "metadata": {},
   "cell_type": "code",
   "outputs": [],
   "execution_count": null,
   "source": "",
   "id": "9c486a900ab5c78d"
  }
 ],
 "metadata": {
  "kernelspec": {
   "display_name": "Python 3",
   "language": "python",
   "name": "python3"
  },
  "language_info": {
   "codemirror_mode": {
    "name": "ipython",
    "version": 2
   },
   "file_extension": ".py",
   "mimetype": "text/x-python",
   "name": "python",
   "nbconvert_exporter": "python",
   "pygments_lexer": "ipython2",
   "version": "2.7.6"
  }
 },
 "nbformat": 4,
 "nbformat_minor": 5
}
