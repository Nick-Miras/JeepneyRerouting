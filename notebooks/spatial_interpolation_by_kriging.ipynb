{
 "cells": [
  {
   "cell_type": "code",
   "id": "initial_id",
   "metadata": {
    "collapsed": true,
    "ExecuteTime": {
     "end_time": "2024-11-11T13:48:31.975584Z",
     "start_time": "2024-11-11T13:48:31.964140Z"
    }
   },
   "source": [
    "import cartopy.feature as cfeature\n",
    "import matplotlib.pyplot as plt\n",
    "import cartopy.crs as ccrs\n",
    "import netCDF4 as nc\n",
    "import pandas as pd\n",
    "import numpy as np\n",
    "import os\n",
    "from pykrige.ok import OrdinaryKriging"
   ],
   "outputs": [],
   "execution_count": 64
  },
  {
   "metadata": {},
   "cell_type": "markdown",
   "source": "### Read contents of nc4 file as sample ",
   "id": "47f39035f8065c93"
  },
  {
   "metadata": {
    "ExecuteTime": {
     "end_time": "2024-11-11T13:42:48.406394Z",
     "start_time": "2024-11-11T13:42:48.394961Z"
    }
   },
   "cell_type": "code",
   "source": [
    "file_path = '../nasa_data/precipitation_data/2023-05-31.nc4'\n",
    "dataset = nc.Dataset(file_path, 'r')"
   ],
   "id": "66e78172b6f0fd3e",
   "outputs": [],
   "execution_count": 60
  },
  {
   "metadata": {
    "ExecuteTime": {
     "end_time": "2024-11-11T13:44:48.052744Z",
     "start_time": "2024-11-11T13:44:48.042209Z"
    }
   },
   "cell_type": "code",
   "source": [
    "# Extract variables (replace 'variable_name' with actual variable names)\n",
    "lat = dataset.variables['lat'][:]\n",
    "lon = dataset.variables['lon'][:]\n",
    "precipitation = dataset.variables['precipitation'][:]\n",
    "\n",
    "# Create a DataFrame\n",
    "data = {\n",
    "    'latitude': np.repeat(lat, len(lon)),\n",
    "    'longitude': np.tile(lon, len(lat)),\n",
    "    'precipitation': precipitation.flatten()\n",
    "}"
   ],
   "id": "749e79172138a4f4",
   "outputs": [],
   "execution_count": 62
  },
  {
   "metadata": {
    "ExecuteTime": {
     "end_time": "2024-11-11T13:44:48.430158Z",
     "start_time": "2024-11-11T13:44:48.413800Z"
    }
   },
   "cell_type": "code",
   "source": [
    "df = pd.DataFrame(data)\n",
    "df.head()"
   ],
   "id": "f06954a8487901e3",
   "outputs": [
    {
     "data": {
      "text/plain": [
       "   latitude   longitude  precipitation\n",
       "0     14.35  120.849998       1.400000\n",
       "1     14.35  120.949997      10.775000\n",
       "2     14.35  121.050003      17.934999\n",
       "3     14.45  120.849998      18.590000\n",
       "4     14.45  120.949997       6.965001"
      ],
      "text/html": [
       "<div>\n",
       "<style scoped>\n",
       "    .dataframe tbody tr th:only-of-type {\n",
       "        vertical-align: middle;\n",
       "    }\n",
       "\n",
       "    .dataframe tbody tr th {\n",
       "        vertical-align: top;\n",
       "    }\n",
       "\n",
       "    .dataframe thead th {\n",
       "        text-align: right;\n",
       "    }\n",
       "</style>\n",
       "<table border=\"1\" class=\"dataframe\">\n",
       "  <thead>\n",
       "    <tr style=\"text-align: right;\">\n",
       "      <th></th>\n",
       "      <th>latitude</th>\n",
       "      <th>longitude</th>\n",
       "      <th>precipitation</th>\n",
       "    </tr>\n",
       "  </thead>\n",
       "  <tbody>\n",
       "    <tr>\n",
       "      <th>0</th>\n",
       "      <td>14.35</td>\n",
       "      <td>120.849998</td>\n",
       "      <td>1.400000</td>\n",
       "    </tr>\n",
       "    <tr>\n",
       "      <th>1</th>\n",
       "      <td>14.35</td>\n",
       "      <td>120.949997</td>\n",
       "      <td>10.775000</td>\n",
       "    </tr>\n",
       "    <tr>\n",
       "      <th>2</th>\n",
       "      <td>14.35</td>\n",
       "      <td>121.050003</td>\n",
       "      <td>17.934999</td>\n",
       "    </tr>\n",
       "    <tr>\n",
       "      <th>3</th>\n",
       "      <td>14.45</td>\n",
       "      <td>120.849998</td>\n",
       "      <td>18.590000</td>\n",
       "    </tr>\n",
       "    <tr>\n",
       "      <th>4</th>\n",
       "      <td>14.45</td>\n",
       "      <td>120.949997</td>\n",
       "      <td>6.965001</td>\n",
       "    </tr>\n",
       "  </tbody>\n",
       "</table>\n",
       "</div>"
      ]
     },
     "execution_count": 63,
     "metadata": {},
     "output_type": "execute_result"
    }
   ],
   "execution_count": 63
  },
  {
   "metadata": {},
   "cell_type": "markdown",
   "source": "### Iterate through each nc4 file",
   "id": "1f38054955b304d7"
  },
  {
   "metadata": {
    "ExecuteTime": {
     "end_time": "2024-11-11T13:48:35.938770Z",
     "start_time": "2024-11-11T13:48:35.925196Z"
    }
   },
   "cell_type": "code",
   "source": [
    "# Function to read and extract precipitation data from a NetCDF4 file\n",
    "def read_nc4_precipitation(file_path):\n",
    "    ds = nc.Dataset(file_path)\n",
    "    lat = ds.variables['lat'][:]\n",
    "    lon = ds.variables['lon'][:]\n",
    "    precipitation = ds.variables['precipitation'][:]  # Adjust variable name if needed\n",
    "    ds.close()\n",
    "    return lat, lon, precipitation"
   ],
   "id": "a5c2977dbf1e11c2",
   "outputs": [],
   "execution_count": 65
  },
  {
   "metadata": {
    "ExecuteTime": {
     "end_time": "2024-11-11T13:48:36.371221Z",
     "start_time": "2024-11-11T13:48:36.333842Z"
    }
   },
   "cell_type": "code",
   "source": [
    "# Define the date ranges and generate file paths\n",
    "date_ranges = [\n",
    "    # pd.date_range(\"2023-10-31\", periods=1),\n",
    "    pd.date_range(\"2023-11-01\", \"2015-11-30\"),\n",
    "    pd.date_range(\"2023-12-01\", \"2023-12-31\"),\n",
    "    pd.date_range(\"2024-01-01\", \"2024-01-31\"),\n",
    "    pd.date_range(\"2024-02-01\", \"2024-02-29\"),\n",
    "    pd.date_range(\"2024-03-01\", \"2024-03-31\"),\n",
    "    pd.date_range(\"2024-04-01\", \"2024-04-30\"),\n",
    "]\n",
    "folder_path = '../nasa_data/precipitation_data'\n",
    "\n",
    "# # Define the date ranges and generate file paths\n",
    "# date_ranges = [\n",
    "#     pd.date_range(\"2015-12-01\", \"2015-12-13\"),\n",
    "#     pd.date_range(\"2018-09-04\", \"2018-09-16\"),\n",
    "#     pd.date_range(\"2020-10-25\", \"2020-11-06\"),\n",
    "#     pd.date_range(\"2024-07-22\", \"2024-08-03\")\n",
    "# ]\n",
    "# folder_path = '../nasa_data/precipitation_data'"
   ],
   "id": "c07d0163fc77d170",
   "outputs": [],
   "execution_count": 66
  },
  {
   "metadata": {
    "ExecuteTime": {
     "end_time": "2024-11-11T13:48:36.677798Z",
     "start_time": "2024-11-11T13:48:36.657292Z"
    }
   },
   "cell_type": "code",
   "source": [
    "# Create file paths for each date range\n",
    "file_paths = [\n",
    "    os.path.join(folder_path, f\"{date.strftime('%Y-%m-%d')}.nc4\")\n",
    "    for date_range in date_ranges for date in date_range\n",
    "]"
   ],
   "id": "ab073e25bce1bfbd",
   "outputs": [],
   "execution_count": 67
  },
  {
   "metadata": {
    "ExecuteTime": {
     "end_time": "2024-11-11T13:48:37.828321Z",
     "start_time": "2024-11-11T13:48:36.862363Z"
    }
   },
   "cell_type": "code",
   "source": [
    "# Read precipitation data from all files and store in a list of DataFrames\n",
    "precip_data = []\n",
    "for file_path in file_paths:\n",
    "    if os.path.exists(file_path):  # Ensure file exists\n",
    "        lat, lon, precipitation = read_nc4_precipitation(file_path)\n",
    "        lat_grid, lon_grid = np.meshgrid(lat, lon)\n",
    "        data = pd.DataFrame({\n",
    "            'lat': lat_grid.ravel(),\n",
    "            'lon': lon_grid.ravel(),\n",
    "            'precipitation': precipitation.ravel()\n",
    "        })\n",
    "        precip_data.append(data)\n",
    "    else:\n",
    "        print(f\"File {file_path} not found.\")\n",
    "\n",
    "# Combine all DataFrames into a single DataFrame for analysis\n",
    "combined_precip_data = pd.concat(precip_data, ignore_index=True)"
   ],
   "id": "536f91227c8f567f",
   "outputs": [],
   "execution_count": 68
  },
  {
   "metadata": {
    "ExecuteTime": {
     "end_time": "2024-11-11T13:48:37.840036Z",
     "start_time": "2024-11-11T13:48:37.830343Z"
    }
   },
   "cell_type": "code",
   "source": [
    "# DataFrame with target lat/lon points for interpolation\n",
    "# Example format for target_points DataFrame:\n",
    "# target_points = pd.DataFrame({\n",
    "#     'lat': [lat1, lat2, ...],\n",
    "#     'lon': [lon1, lon2, ...]\n",
    "# })\n",
    "# target_points = pd.read_csv('../nasa_data/precipitation_data/combined_precipitation_data.csv')  # Load your target points file\n",
    "target_points = combined_precip_data"
   ],
   "id": "e483596e172ee28c",
   "outputs": [],
   "execution_count": 69
  },
  {
   "metadata": {},
   "cell_type": "markdown",
   "source": "### Spatial Interpolation by Kriging (Ordinary Kriging)",
   "id": "d8e30122dfe3ff3"
  },
  {
   "metadata": {
    "ExecuteTime": {
     "end_time": "2024-11-11T13:48:37.882135Z",
     "start_time": "2024-11-11T13:48:37.873678Z"
    }
   },
   "cell_type": "code",
   "source": [
    "# Perform Universal Kriging interpolation\n",
    "def interpolate_precipitation(known_data, target_points):\n",
    "    interp_precip = []\n",
    "    for _, row in target_points.iterrows():\n",
    "        ok = OrdinaryKriging(\n",
    "            known_data['lon'], known_data['lat'], known_data['precipitation'],\n",
    "            variogram_model='linear'\n",
    "        )\n",
    "        z, ss = ok.execute('points', row['lon'], row['lat'])\n",
    "        interp_precip.append(z[0])\n",
    "\n",
    "    target_points['precipitation'] = interp_precip\n",
    "    return target_points"
   ],
   "id": "5ec62445d2c8a67e",
   "outputs": [],
   "execution_count": 70
  },
  {
   "metadata": {},
   "cell_type": "markdown",
   "source": "### Simulate",
   "id": "698aa930f95dc949"
  },
  {
   "metadata": {
    "ExecuteTime": {
     "end_time": "2024-11-11T13:50:28.992594Z",
     "start_time": "2024-11-11T13:48:38.134093Z"
    }
   },
   "cell_type": "code",
   "source": [
    "# Interpolated results\n",
    "interpolated_precipitation = interpolate_precipitation(combined_precip_data, target_points)"
   ],
   "id": "b836b3bf658a819a",
   "outputs": [],
   "execution_count": 71
  },
  {
   "metadata": {
    "ExecuteTime": {
     "end_time": "2024-11-11T13:50:29.010295Z",
     "start_time": "2024-11-11T13:50:29.000622Z"
    }
   },
   "cell_type": "code",
   "source": [
    "# # Save the results to a CSV file\n",
    "# output_csv_path = os.path.join(folder_path, 'interpolated_precipitation.csv')\n",
    "# interpolated_precipitation.to_csv(output_csv_path, index=False)\n",
    "# \n",
    "# print(f\"Interpolation complete. Results saved as '{output_csv_path}'.\")"
   ],
   "id": "751e86fcf23f5604",
   "outputs": [],
   "execution_count": 72
  },
  {
   "metadata": {},
   "cell_type": "markdown",
   "source": "### Visualization",
   "id": "cf0e9abbef029647"
  },
  {
   "metadata": {
    "ExecuteTime": {
     "end_time": "2024-11-11T13:50:29.479969Z",
     "start_time": "2024-11-11T13:50:29.055950Z"
    }
   },
   "cell_type": "code",
   "source": [
    "# Function to plot interpolated precipitation data with a minimum threshold\n",
    "def plot_interpolation(data, min_precip=3):\n",
    "    # Filter data to only include points with precipitation >= min_precip\n",
    "    data = data[data['precipitation'] >= min_precip]\n",
    "\n",
    "    # Set up the map projection and figure size\n",
    "    fig, ax = plt.subplots(figsize=(10, 8), subplot_kw={'projection': ccrs.PlateCarree()})\n",
    "\n",
    "    # Add map features for context\n",
    "    ax.add_feature(cfeature.COASTLINE)\n",
    "    ax.add_feature(cfeature.BORDERS, linestyle=':')\n",
    "    ax.add_feature(cfeature.LAND, facecolor='lightgray')\n",
    "    ax.add_feature(cfeature.OCEAN, facecolor='lightblue')\n",
    "\n",
    "    # Scatter plot of interpolated data points with color based on precipitation\n",
    "    sc = ax.scatter(\n",
    "        data['lon'], data['lat'], c=data['precipitation'], cmap='viridis',\n",
    "        marker='o', s=20, transform=ccrs.PlateCarree()\n",
    "    )\n",
    "\n",
    "    # Add a color bar to indicate precipitation levels\n",
    "    cbar = plt.colorbar(sc, ax=ax, orientation='horizontal', pad=0.05)\n",
    "    cbar.set_label('Precipitation (mm)')\n",
    "\n",
    "    # Set titles and labels\n",
    "    ax.set_title('Interpolated Precipitation (Threshold: >= 3 mm)')\n",
    "    ax.set_xlabel('Longitude')\n",
    "    ax.set_ylabel('Latitude')\n",
    "\n",
    "    plt.show()\n",
    "\n",
    "# Call the function to plot, applying the minimum precipitation filter\n",
    "plot_interpolation(interpolated_precipitation, min_precip=3)"
   ],
   "id": "4d85e578fa736e49",
   "outputs": [
    {
     "data": {
      "text/plain": [
       "<Figure size 1000x800 with 2 Axes>"
      ],
      "image/png": "[encoded data removed]"
     },
     "metadata": {},
     "output_type": "display_data"
    }
   ],
   "execution_count": 73
  },
  {
   "metadata": {
    "ExecuteTime": {
     "end_time": "2024-11-11T13:50:29.515043Z",
     "start_time": "2024-11-11T13:50:29.507717Z"
    }
   },
   "cell_type": "code",
   "source": "",
   "id": "9861be383d92b01c",
   "outputs": [],
   "execution_count": null
  }
 ],
 "metadata": {
  "kernelspec": {
   "display_name": "Python 3",
   "language": "python",
   "name": "python3"
  },
  "language_info": {
   "codemirror_mode": {
    "name": "ipython",
    "version": 2
   },
   "file_extension": ".py",
   "mimetype": "text/x-python",
   "name": "python",
   "nbconvert_exporter": "python",
   "pygments_lexer": "ipython2",
   "version": "2.7.6"
  }
 },
 "nbformat": 4,
 "nbformat_minor": 5
}
